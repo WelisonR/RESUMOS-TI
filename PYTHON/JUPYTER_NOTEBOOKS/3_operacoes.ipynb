{
 "cells": [
  {
   "cell_type": "markdown",
   "metadata": {},
   "source": [
    "# Operações aritméticos"
   ]
  },
  {
   "cell_type": "code",
   "execution_count": null,
   "metadata": {},
   "outputs": [],
   "source": [
    "print(2 + 3)\n",
    "print(4 - 7)\n",
    "print(2 * 5.3)\n",
    "print(9.4 / 3)\n",
    "print(9.4 // 3)\n",
    "print(2 ** 8)\n",
    "print(10 % 3)"
   ]
  },
  {
   "cell_type": "markdown",
   "metadata": {},
   "source": [
    "# Operadores relacionais"
   ]
  },
  {
   "cell_type": "code",
   "execution_count": null,
   "metadata": {},
   "outputs": [],
   "source": [
    "print(3 > 4)\n",
    "print(4 >= 3)\n",
    "print (1 < 2)\n",
    "print(3 <= 1)\n",
    "print(3 != 2)\n",
    "print(3 == 3)\n",
    "print(2 == '2')"
   ]
  },
  {
   "cell_type": "markdown",
   "metadata": {},
   "source": [
    "# Operadores de atribuição"
   ]
  },
  {
   "cell_type": "code",
   "execution_count": null,
   "metadata": {},
   "outputs": [],
   "source": [
    "a = 3\n",
    "print(a)\n",
    "\n",
    "a = a + 7\n",
    "print(a)\n",
    "\n",
    "a += 5\n",
    "print(a)\n",
    "\n",
    "a -= 3\n",
    "print(a)\n",
    "\n",
    "a /= 4\n",
    "print(a)\n",
    "\n",
    "a %= 2\n",
    "print(a)\n",
    "\n",
    "a **= 8\n",
    "print(a)\n",
    "\n",
    "a //= 1\n",
    "print(a)"
   ]
  },
  {
   "cell_type": "markdown",
   "metadata": {},
   "source": [
    "# Operadores lógicos"
   ]
  },
  {
   "cell_type": "code",
   "execution_count": 8,
   "metadata": {},
   "outputs": [
    {
     "name": "stdout",
     "output_type": "stream",
     "text": [
      "True\n",
      "False\n",
      "0\n",
      "11\n",
      "1\n"
     ]
    }
   ],
   "source": [
    "# operadores\n",
    "print(7 != 3 and 2 > 3 or 1 == 1)\n",
    "print(not 10)\n",
    "\n",
    "# Operação bit-a-bit (and, or, xor)\n",
    "print(11 & 00)\n",
    "print(10 | 1)\n",
    "print(00 ^ 1)"
   ]
  },
  {
   "cell_type": "markdown",
   "metadata": {},
   "source": [
    "# Operadores unários\n",
    "* Não exite `a++`, `a--` em Python."
   ]
  },
  {
   "cell_type": "code",
   "execution_count": 1,
   "metadata": {},
   "outputs": [
    {
     "name": "stdout",
     "output_type": "stream",
     "text": [
      "-3\n",
      "3\n",
      "True\n",
      "False\n",
      "False\n",
      "True\n",
      "True\n"
     ]
    }
   ],
   "source": [
    "a = 3\n",
    "print(-a)\n",
    "print(+a)\n",
    "\n",
    "print(not 0)\n",
    "print(not 1)\n",
    "print(not -2)\n",
    "print(not False)\n",
    "print(not not True)"
   ]
  },
  {
   "cell_type": "markdown",
   "metadata": {},
   "source": [
    "# Operadores ternários"
   ]
  },
  {
   "cell_type": "code",
   "execution_count": null,
   "metadata": {},
   "outputs": [],
   "source": [
    "esta_chovendo = True\n",
    "\n",
    "# True indexa o elemento em x[1] na tupla, False indexa x[0]\n",
    "print('Hoje estou com as roupas' + (' secas.', ' molhadas.')[esta_chovendo])\n",
    "\n",
    "print('Hoje estou com as roupas' + (' molhadas.' if esta_chovendo else ' secas.'))"
   ]
  },
  {
   "cell_type": "markdown",
   "metadata": {},
   "source": [
    "# Mais operadores"
   ]
  },
  {
   "cell_type": "code",
   "execution_count": null,
   "metadata": {},
   "outputs": [],
   "source": [
    "# Operador de Membro\n",
    "lista = [1, 2, 3, 'Lucas', 'José']\n",
    "print(2 in lista)\n",
    "print('Rebeca' not in lista)\n",
    "\n",
    "# Operador de Identidade\n",
    "x = 3\n",
    "y = x\n",
    "z = 3\n",
    "\n",
    "# mesmo valor de endereço\n",
    "print(x is z)\n",
    "\n",
    "# Posições em memórias diferentes\n",
    "lista_a = [1, 2, 3]\n",
    "lista_b = lista_a\n",
    "lista_c = [1, 2, 3]\n",
    "\n",
    "print(lista_a is lista_c)"
   ]
  }
 ],
 "metadata": {
  "kernelspec": {
   "display_name": "Python 3",
   "language": "python",
   "name": "python3"
  },
  "language_info": {
   "codemirror_mode": {
    "name": "ipython",
    "version": 3
   },
   "file_extension": ".py",
   "mimetype": "text/x-python",
   "name": "python",
   "nbconvert_exporter": "python",
   "pygments_lexer": "ipython3",
   "version": "3.7.1"
  }
 },
 "nbformat": 4,
 "nbformat_minor": 2
}
