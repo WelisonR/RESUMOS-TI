{
 "cells": [
  {
   "cell_type": "markdown",
   "metadata": {},
   "source": [
    "# Introdução à Programação Funcional"
   ]
  },
  {
   "cell_type": "code",
   "execution_count": null,
   "metadata": {},
   "outputs": [],
   "source": [
    "def executar(funcao):\n",
    "    if callable(funcao):\n",
    "        funcao()\n",
    "\n",
    "\n",
    "def bom_dia():\n",
    "    print('Bom dia!')\n",
    "\n",
    "\n",
    "def boa_tarde():\n",
    "    print('Boa tarde!')\n",
    "\n",
    "\n",
    "if __name__ == '__main__':\n",
    "    executar(bom_dia)"
   ]
  }
 ],
 "metadata": {
  "kernelspec": {
   "display_name": "Python 3",
   "language": "python",
   "name": "python3"
  },
  "language_info": {
   "codemirror_mode": {
    "name": "ipython",
    "version": 3
   },
   "file_extension": ".py",
   "mimetype": "text/x-python",
   "name": "python",
   "nbconvert_exporter": "python",
   "pygments_lexer": "ipython3",
   "version": "3.7.1"
  }
 },
 "nbformat": 4,
 "nbformat_minor": 2
}
