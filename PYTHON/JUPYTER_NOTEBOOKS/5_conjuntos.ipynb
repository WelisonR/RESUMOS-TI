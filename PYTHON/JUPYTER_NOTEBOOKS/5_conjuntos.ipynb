{
 "cells": [
  {
   "cell_type": "markdown",
   "metadata": {},
   "source": [
    "# Conjuntos\n",
    "* Não é indexado.\n",
    "* Apenas valores.\n",
    "* Valores não se repetem.\n",
    "* Não garante ordem de inserção.\n",
    "* Não há a operação de soma de conjuntos, porém usa-se o 'union'."
   ]
  },
  {
   "cell_type": "code",
   "execution_count": 1,
   "metadata": {},
   "outputs": [
    {
     "name": "stdout",
     "output_type": "stream",
     "text": [
      "<class 'set'>\n",
      "{'d', 'a', 'o'}\n",
      "True\n",
      "True\n",
      "{1, 2, 3}\n",
      "{2}\n",
      "True\n",
      "{1}\n"
     ]
    }
   ],
   "source": [
    "a = {1, 2, 3}\n",
    "print(type(a))\n",
    "# print(a[0])\n",
    "\n",
    "a = set('dado')\n",
    "print(a)\n",
    "print('e' not in a)\n",
    "print({1, 2, 3} == {3, 2, 1, 3})\n",
    "\n",
    "# Operações\n",
    "c1 = {1, 2}\n",
    "c2 = {2, 3}\n",
    "print(c1.union(c2))\n",
    "print(c1.intersection(c2))\n",
    "\n",
    "# Altera o conjunto 1, faz a união e atualização\n",
    "c1.update(c2)    # c1 = {1, 2, 3}\n",
    "\n",
    "# c2 é subconjunto de c1?\n",
    "print(c2 <= c1)\n",
    "\n",
    "# Diferença de conjunto\n",
    "print({1, 2, 3} - {2, 3})"
   ]
  }
 ],
 "metadata": {
  "kernelspec": {
   "display_name": "Python 3",
   "language": "python",
   "name": "python3"
  },
  "language_info": {
   "codemirror_mode": {
    "name": "ipython",
    "version": 3
   },
   "file_extension": ".py",
   "mimetype": "text/x-python",
   "name": "python",
   "nbconvert_exporter": "python",
   "pygments_lexer": "ipython3",
   "version": "3.7.1"
  }
 },
 "nbformat": 4,
 "nbformat_minor": 2
}
