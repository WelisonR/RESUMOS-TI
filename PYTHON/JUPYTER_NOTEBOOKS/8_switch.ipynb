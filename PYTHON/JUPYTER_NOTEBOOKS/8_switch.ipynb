{
 "cells": [
  {
   "cell_type": "markdown",
   "metadata": {},
   "source": [
    "# switch\n",
    "* Não há o switch nativamente no Python."
   ]
  },
  {
   "cell_type": "code",
   "execution_count": null,
   "metadata": {},
   "outputs": [],
   "source": [
    "\n",
    "def get_dia_semana(dia):\n",
    "    dias = {\n",
    "        1: 'Domingo',\n",
    "        2: 'Segunda',\n",
    "        3: 'Terça',\n",
    "        4: 'Quarta',\n",
    "        5: 'Quinta',\n",
    "        6: 'Sexta',\n",
    "        7: 'Sábado'\n",
    "    }\n",
    "    \n",
    "    return dias.get(dia, 'Inválido')\n",
    "\n",
    "\n",
    "if __name__ == '__main__':\n",
    "    for dia in range(0, 9):\n",
    "        print(f'{dia}: {get_dia_semana(dia)}')"
   ]
  },
  {
   "cell_type": "code",
   "execution_count": null,
   "metadata": {},
   "outputs": [],
   "source": [
    "def final_semana(dia):\n",
    "    dias = {\n",
    "        1: 'Fim de semana',\n",
    "        2: 'Dia de semana',\n",
    "        3: 'Dia de semana',\n",
    "        4: 'Dia de semana',\n",
    "        5: 'Dia de semana',\n",
    "        6: 'Dia de semana',\n",
    "        7: 'Fim de semana'\n",
    "    }\n",
    "    \n",
    "    return dias.get(dia, 'Inválido')\n",
    "\n",
    "if __name__ == '__main__':\n",
    "    for dia in range(8):\n",
    "        print(f'{dia}: {final_semana(dia)}')"
   ]
  }
 ],
 "metadata": {
  "kernelspec": {
   "display_name": "Python 3",
   "language": "python",
   "name": "python3"
  },
  "language_info": {
   "codemirror_mode": {
    "name": "ipython",
    "version": 3
   },
   "file_extension": ".py",
   "mimetype": "text/x-python",
   "name": "python",
   "nbconvert_exporter": "python",
   "pygments_lexer": "ipython3",
   "version": "3.7.1"
  }
 },
 "nbformat": 4,
 "nbformat_minor": 2
}
