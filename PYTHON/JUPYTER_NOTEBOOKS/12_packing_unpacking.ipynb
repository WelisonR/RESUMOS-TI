{
 "cells": [
  {
   "cell_type": "markdown",
   "metadata": {},
   "source": [
    "# Packing e Unpacking\n",
    "* `*args`, `**kwargs`: nomes não são fixos, pode-se colocar o que quiser.\n",
    "* `*args`: gera uma tupla, argumentos não nomeados.\n",
    "* `**kwargs`: gera um dicionário, argumentos nomeados."
   ]
  },
  {
   "cell_type": "code",
   "execution_count": null,
   "metadata": {},
   "outputs": [],
   "source": [
    "def soma_2(a, b):\n",
    "    return a + b\n",
    "\n",
    "\n",
    "def soma_3(a, b, c):\n",
    "    return a + b + c\n",
    "\n",
    "\n",
    "def soma_n(*numeros):\n",
    "    # numeros é uma tupla\n",
    "    return sum(numeros)\n",
    "\n",
    "\n",
    "if __name__ == '__main__':\n",
    "    # packing\n",
    "    print(soma_n(1))\n",
    "    print(soma_n(1, 1))\n",
    "    print(soma_n(10, 9, 8, 7, 6, 5))\n",
    "\n",
    "    # unpacking\n",
    "    tupla_nums = (1, 2, 3)\n",
    "    print(soma_3(*tupla_nums))\n",
    "    lista_nums = [1, 2, 3]\n",
    "    print(soma_3(*lista_nums))"
   ]
  },
  {
   "cell_type": "code",
   "execution_count": null,
   "metadata": {},
   "outputs": [],
   "source": [
    "# packing\n",
    "def resultado1_f1(**podium):\n",
    "    for posicao, piloto in podium.items():\n",
    "        print('{} -> {}'.format(posicao, piloto))\n",
    "\n",
    "\n",
    "# unpacking\n",
    "def resultado2_f1(primeiro, segundo, terceiro):\n",
    "    print('1) {}'.format(primeiro))\n",
    "    print('2) {}'.format(segundo))\n",
    "    print('3) {}'.format(terceiro))\n",
    "\n",
    "\n",
    "if __name__ == '__main__':\n",
    "    # packing\n",
    "    resultado1_f1(primeiro='L. Hamilton',\n",
    "                  segundo='M. Verstappen',\n",
    "                  terceiro='S. Vettel')\n",
    "\n",
    "    # unpacking\n",
    "    podium = {'primeiro': 'L. Hamilton',\n",
    "              'terceiro': 'S. Vettel',\n",
    "              'segundo': 'M. Verstappen'}\n",
    "    resultado2_f1(**podium)"
   ]
  },
  {
   "cell_type": "code",
   "execution_count": null,
   "metadata": {},
   "outputs": [],
   "source": [
    "def calc_preco_final(preco_bruto, calc_imposto, *params):\n",
    "    return preco_bruto + preco_bruto * calc_imposto(*params)\n",
    "\n",
    "\n",
    "def imposto_x(importado):\n",
    "    return 0.22 if importado else 0.13\n",
    "\n",
    "\n",
    "def imposto_y(explosivo, fator_mult=1):\n",
    "    return 0.11 * fator_mult if explosivo else 0\n",
    "\n",
    "\n",
    "if __name__ == '__main__':\n",
    "    preco_bruto = 134.98\n",
    "    preco_final = calc_preco_final(preco_bruto, imposto_x, True)\n",
    "    preco_final = calc_preco_final(preco_final, imposto_y, True, 1.5)\n",
    "    print('Preço final: R$ {:.3f}'.format(preco_final))"
   ]
  },
  {
   "cell_type": "code",
   "execution_count": null,
   "metadata": {},
   "outputs": [],
   "source": [
    "def todos_params(*args, **kwargs):\n",
    "    print('args: {}'.format(args))\n",
    "    print('kwargs: {}'.format(kwargs))\n",
    "\n",
    "\n",
    "if __name__ == '__main__':\n",
    "    todos_params('a', 'b', 'c')\n",
    "    todos_params(1, 2, 3, legal=True, valor=12.99)\n",
    "    todos_params('Ana', False, [1, 2, 3], tamanho='M', fragil=False)\n",
    "    # problema: posicionais devem estar antes\n",
    "    # todos_params(primeiro='João', 'Maria')"
   ]
  },
  {
   "cell_type": "code",
   "execution_count": null,
   "metadata": {},
   "outputs": [],
   "source": [
    "# Resolução de um problema\n",
    "def tag(tag, *args, **kwargs):\n",
    "    if 'html_class' in kwargs:\n",
    "        kwargs['class'] = kwargs.pop('html_class')\n",
    "    attrs = ''.join('{}=\"{}\"'.format(k, v) for k, v in kwargs.items())\n",
    "    inner = ''.join(args)\n",
    "    return '<{} {}> {} </{}>'.format(tag, attrs, inner, tag)\n",
    "\n",
    "\n",
    "if __name__ == '__main__':\n",
    "    print(\n",
    "        tag('p',\n",
    "            tag('span', 'Curso de Python 3, por'),\n",
    "            tag('strong', 'Juracy Filho', id='jf'),\n",
    "            tag('span', ' e '),\n",
    "            tag('strong', 'Leonardo Leitão', id='ll'),\n",
    "            tag('span', '.'),\n",
    "            html_class='alert')\n",
    "    )\n"
   ]
  }
 ],
 "metadata": {
  "kernelspec": {
   "display_name": "Python 3",
   "language": "python",
   "name": "python3"
  },
  "language_info": {
   "codemirror_mode": {
    "name": "ipython",
    "version": 3
   },
   "file_extension": ".py",
   "mimetype": "text/x-python",
   "name": "python",
   "nbconvert_exporter": "python",
   "pygments_lexer": "ipython3",
   "version": "3.7.1"
  }
 },
 "nbformat": 4,
 "nbformat_minor": 2
}
