{
 "cells": [
  {
   "cell_type": "markdown",
   "metadata": {},
   "source": [
    "# Comandos iniciais"
   ]
  },
  {
   "cell_type": "code",
   "execution_count": null,
   "metadata": {},
   "outputs": [],
   "source": [
    "print('Famoso hello world!')\n",
    "help(print)\n",
    "\n",
    "1 \\\n",
    "+ 2"
   ]
  },
  {
   "cell_type": "markdown",
   "metadata": {},
   "source": [
    "# Tipos básicos de dados"
   ]
  },
  {
   "cell_type": "code",
   "execution_count": 1,
   "metadata": {},
   "outputs": [
    {
     "name": "stdout",
     "output_type": "stream",
     "text": [
      "True\n",
      "False\n",
      "2.2\n",
      "It's a string\n",
      "Você é muito muito muito legal!\n",
      "[1, 2, 3]\n",
      "(1, 2, 3)\n",
      "{'nome': 'Welison', 'idade': 20}\n",
      "None\n"
     ]
    }
   ],
   "source": [
    "print(True)\n",
    "print(False)\n",
    "print(1.2 + 1)\n",
    "print('It\\'s a string')\n",
    "print('Você é ' + 3 * 'muito ' + 'legal!')\n",
    "print([1, 2, 3])\n",
    "print((1, 2, 3,))\n",
    "print({'nome': 'Welison', 'idade': 20})\n",
    "print(None)"
   ]
  },
  {
   "cell_type": "markdown",
   "metadata": {},
   "source": [
    "# Representação de dados em outras bases"
   ]
  },
  {
   "cell_type": "code",
   "execution_count": null,
   "metadata": {},
   "outputs": [],
   "source": [
    "# BINÁRIO\n",
    "a = 0b111\n",
    "\n",
    "# OCTAL\n",
    "b = 0o1\n",
    "\n",
    "# HEXADECIMAL\n",
    "c = 0xff\n",
    "\n",
    "print(f'{a}, {b}, {c}')"
   ]
  },
  {
   "cell_type": "markdown",
   "metadata": {},
   "source": [
    "# Variáveis"
   ]
  },
  {
   "cell_type": "code",
   "execution_count": null,
   "metadata": {},
   "outputs": [],
   "source": [
    "a = 10\n",
    "b = 5.2\n",
    "\n",
    "a = 'string'\n",
    "print(a)\n",
    "\n",
    "# apresenta erro, pois a linguagem é fortemente tipada\n",
    "# print(a + b)"
   ]
  },
  {
   "cell_type": "markdown",
   "metadata": {},
   "source": [
    "# CONVERSÃO DE TIPOS\n",
    "A linguagem python é fortemente tipada, isto é, dá problemas ao misturar tipos. Exemplo: `print(2 + '2')`."
   ]
  },
  {
   "cell_type": "code",
   "execution_count": null,
   "metadata": {},
   "outputs": [],
   "source": [
    "print(2 + 3)\n",
    "print('2' + '3')\n",
    "\n",
    "a = 2\n",
    "b = '3'\n",
    "\n",
    "print(type(a))\n",
    "print(type(b))\n",
    "\n",
    "print(a + int(b))\n",
    "print(str(a) + b)\n",
    "\n",
    "# Erro de conversão\n",
    "# print(2 + int('3hard'))"
   ]
  },
  {
   "cell_type": "code",
   "execution_count": null,
   "metadata": {},
   "outputs": [],
   "source": [
    "a = 10 / 2\n",
    "b = 10 // 3\n",
    "c = 10 // 3.3 # será float devido ao 3.3\n",
    "d = 2.0 + True\n",
    "e = 2 + False\n",
    "\n",
    "print(type(a))\n",
    "print(type(b))\n",
    "print(type(c))\n",
    "print(type(d))\n",
    "print(type(e))"
   ]
  },
  {
   "cell_type": "markdown",
   "metadata": {},
   "source": [
    "# Tipos numéricos"
   ]
  },
  {
   "cell_type": "code",
   "execution_count": null,
   "metadata": {},
   "outputs": [],
   "source": [
    "# Exemplo de uso de tipos numéricos com suas funções embutidas\n",
    "a = 4.0\n",
    "b = (-2).__abs__()\n",
    "c = abs(-2)\n",
    "\n",
    "print(a.is_integer())\n",
    "print(b == c)"
   ]
  },
  {
   "cell_type": "markdown",
   "metadata": {},
   "source": [
    "## Classe decimal\n",
    "* Precisão grande, evita problemas de exatidão"
   ]
  },
  {
   "cell_type": "code",
   "execution_count": null,
   "metadata": {},
   "outputs": [],
   "source": [
    "from decimal import Decimal, getcontext\n",
    "print(1.1 + 2.2)\n",
    "\n",
    "getcontext().prec = 4\n",
    "print(Decimal(1) / Decimal(7))\n",
    "print(Decimal(1.1) + Decimal(2.2))\n",
    "print(Decimal.max(Decimal(1), Decimal(7)))"
   ]
  },
  {
   "cell_type": "markdown",
   "metadata": {},
   "source": [
    "## String\n",
    "* string é imutável, muda-se apenas a variável de referência."
   ]
  },
  {
   "cell_type": "code",
   "execution_count": null,
   "metadata": {},
   "outputs": [],
   "source": [
    "# Não se pode fazer o seguinte:\n",
    "nome = 'Nice name'\n",
    "# nome[0] = 'k'\n",
    "\n",
    "# Escaping\n",
    "\"Dias D'Avila\" == 'Dias D\\'Avila'\n",
    "texto = 'Texto de \"exemplo\"'\n",
    "\n",
    "# String com múltiplas linhas\n",
    "doc = \"\"\"Texto com múltiplas\\\n",
    "... linhas\"\"\"\n",
    "print(doc)"
   ]
  },
  {
   "cell_type": "code",
   "execution_count": null,
   "metadata": {},
   "outputs": [],
   "source": [
    "nome = 'Welison Lucas'\n",
    "\n",
    "print(nome[0])\n",
    "print(nome[-1])\n",
    "print(nome[0:8])\n",
    "print(nome[::-1])\n",
    "print(nome[-1::-2])"
   ]
  },
  {
   "cell_type": "code",
   "execution_count": null,
   "metadata": {},
   "outputs": [],
   "source": [
    "frase = '!!!Python mágico!!!'\n",
    "\n",
    "print('py' in frase)\n",
    "print('py' not in frase)\n",
    "\n",
    "\n",
    "print(len(frase))\n",
    "print(frase.lower())\n",
    "print(frase.upper())\n",
    "print(frase.strip('!'))\n",
    "print(frase.split(' '))"
   ]
  },
  {
   "cell_type": "code",
   "execution_count": null,
   "metadata": {},
   "outputs": [],
   "source": [
    "# asterisco - extrai os elementos da tupla\n",
    "print('Nome: {}, Idade: {}'.format(*('Wally', 20)))\n",
    "\n",
    "user = ('Wally', 20)\n",
    "print('Nome: {}, Idade: {}'.format(*user))"
   ]
  },
  {
   "cell_type": "markdown",
   "metadata": {},
   "source": [
    "### Interpolação de strings"
   ]
  },
  {
   "cell_type": "code",
   "execution_count": null,
   "metadata": {},
   "outputs": [],
   "source": [
    "from string import Template\n",
    "\n",
    "nome, idade = 'Welison', 20.04\n",
    "\n",
    "print('Nome: %s, Idade: %.2lf (%r)' % (nome, idade, True)) # antiga\n",
    "print('Nome: {0}, Idade: {1}'.format(nome, idade)) # python < 3.6\n",
    "print(f'Nome: {nome}, Idade: {idade}') # python > 3.7\n",
    "\n",
    "s = Template('Nome: $nome, Idade: $idade')\n",
    "print(s.substitute(nome=nome, idade=idade))"
   ]
  },
  {
   "cell_type": "markdown",
   "metadata": {},
   "source": [
    "# Métodos mágicos"
   ]
  },
  {
   "cell_type": "code",
   "execution_count": null,
   "metadata": {},
   "outputs": [],
   "source": [
    "a = '123'\n",
    "b = 'Teste'\n",
    "\n",
    "# \"Métodos mágicos\"\n",
    "print(a.__add__(b))\n",
    "print(str.__add__(a, b))"
   ]
  }
 ],
 "metadata": {
  "kernelspec": {
   "display_name": "Python 3",
   "language": "python",
   "name": "python3"
  },
  "language_info": {
   "codemirror_mode": {
    "name": "ipython",
    "version": 3
   },
   "file_extension": ".py",
   "mimetype": "text/x-python",
   "name": "python",
   "nbconvert_exporter": "python",
   "pygments_lexer": "ipython3",
   "version": "3.7.1"
  }
 },
 "nbformat": 4,
 "nbformat_minor": 2
}
