{
 "cells": [
  {
   "cell_type": "markdown",
   "metadata": {},
   "source": [
    "# Callable Object"
   ]
  },
  {
   "cell_type": "code",
   "execution_count": null,
   "metadata": {},
   "outputs": [],
   "source": [
    "class Potencia:\n",
    "    \"\"\"\n",
    "        Calcula uma potência específica\n",
    "    \"\"\"\n",
    "    def __init__(self, expoente):\n",
    "        self.expoente = expoente\n",
    "\n",
    "    def __call__(self, base):\n",
    "        return base ** self.expoente\n",
    "\n",
    "\n",
    "if __name__ == '__main__':\n",
    "    quadrado = Potencia(2)\n",
    "    cubo = Potencia(3)\n",
    "\n",
    "    if callable(quadrado) and callable(cubo):\n",
    "        print('3^2 => {}'.format(quadrado(3)))\n",
    "        print('5^3 => {}'.format(cubo(5)))\n",
    "        print(Potencia(4)(2))"
   ]
  }
 ],
 "metadata": {
  "kernelspec": {
   "display_name": "Python 3",
   "language": "python",
   "name": "python3"
  },
  "language_info": {
   "codemirror_mode": {
    "name": "ipython",
    "version": 3
   },
   "file_extension": ".py",
   "mimetype": "text/x-python",
   "name": "python",
   "nbconvert_exporter": "python",
   "pygments_lexer": "ipython3",
   "version": "3.7.1"
  }
 },
 "nbformat": 4,
 "nbformat_minor": 2
}
