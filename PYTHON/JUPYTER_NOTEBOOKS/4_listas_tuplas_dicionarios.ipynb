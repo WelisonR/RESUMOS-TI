{
 "cells": [
  {
   "cell_type": "markdown",
   "metadata": {},
   "source": [
    "# Listas"
   ]
  },
  {
   "cell_type": "code",
   "execution_count": null,
   "metadata": {},
   "outputs": [],
   "source": [
    "lista = []\n",
    "lista.append([1, 2, 3])\n",
    "lista.append(5)\n",
    "lista.remove(5)\n",
    "\n",
    "print(len(lista))\n",
    "print(type(lista))\n",
    "print(lista)\n",
    "\n",
    "nova_lista = [1, 2, 'Irineu', 'Eu']\n",
    "nova_lista.reverse()\n",
    "\n",
    "print(nova_lista)"
   ]
  },
  {
   "cell_type": "code",
   "execution_count": null,
   "metadata": {},
   "outputs": [],
   "source": [
    "lista = [1, 5, 'Gui', 'Faraó']\n",
    "\n",
    "print(lista.index('Faraó'))\n",
    "print(lista[-2])\n",
    "print(1 in lista)\n",
    "print('Gui' not in lista)"
   ]
  },
  {
   "cell_type": "code",
   "execution_count": null,
   "metadata": {},
   "outputs": [],
   "source": [
    "lista = ['Ana', 'Bernardo', 'Carlo', 'David', 'Eval']\n",
    "\n",
    "# Inválido, não imprime nada (\"[]\"), pois o incremento está incorreto\n",
    "# print(lista[1:-5])\n",
    "print(lista[1:3])\n",
    "print(lista[::-1])\n",
    "del lista[:3]\n",
    "\n",
    "print(lista)"
   ]
  },
  {
   "cell_type": "markdown",
   "metadata": {},
   "source": [
    "# Tuplas\n",
    "* As tuplas são similares as listas, porém, são imutáveis!"
   ]
  },
  {
   "cell_type": "code",
   "execution_count": null,
   "metadata": {},
   "outputs": [],
   "source": [
    "tupla = tuple()\n",
    "# Necessita da virgula para ser tupla, caso contrário será string\n",
    "tupla = ('um',)\n",
    "print(type(tupla))\n",
    "\n",
    "cores = ('vermelho', 'verde', 'azul')\n",
    "print(cores[0])\n",
    "print(cores[0::2])\n",
    "print(cores.index('vermelho'))\n",
    "print(cores.count('azul'))"
   ]
  },
  {
   "cell_type": "markdown",
   "metadata": {},
   "source": [
    "# Dicionários\n",
    "* Um dicionário (dict) em Python é similar a um HashMap, sendo similar a uma lista de chave e valor, porém com as chaves são imutáveis.\n",
    "* Funciona mesmo que a chave fosse um numeral, ex. 123.\n",
    "* Chave precisa estar entre aspas simples, caso contrário, será considerada variável."
   ]
  },
  {
   "cell_type": "code",
   "execution_count": null,
   "metadata": {},
   "outputs": [],
   "source": [
    "pessoa = {\n",
    "    'nome': 'Prof. Wally',\n",
    "    'idade': 20,\n",
    "    'cursos': [\n",
    "        'c++',\n",
    "        'javascript',\n",
    "        'SQL'\n",
    "    ]\n",
    "}\n",
    "\n",
    "print(pessoa['nome'])\n",
    "print(pessoa['cursos'][0])\n",
    "print(pessoa.keys())\n",
    "print(pessoa.values())\n",
    "print(pessoa.items())\n",
    "print(pessoa.get('tags', 'Default'))"
   ]
  },
  {
   "cell_type": "code",
   "execution_count": null,
   "metadata": {},
   "outputs": [],
   "source": [
    "pessoa = {\n",
    "    'nome': 'Prof. Wallyzera',\n",
    "    'idade': 20,\n",
    "    'cursos': [\n",
    "        'react-native',\n",
    "        'python',\n",
    "        'java'\n",
    "    ]\n",
    "}\n",
    "\n",
    "pessoa['idade'] = 19\n",
    "pessoa['cursos'].append('HTML')\n",
    "pessoa.pop('idade')\n",
    "pessoa.update({'idade': 20, 'sexo': 'M'})\n",
    "del pessoa['cursos']\n",
    "print(pessoa)\n",
    "\n",
    "pessoa.clear()\n",
    "print(pessoa)"
   ]
  }
 ],
 "metadata": {
  "kernelspec": {
   "display_name": "Python 3",
   "language": "python",
   "name": "python3"
  },
  "language_info": {
   "codemirror_mode": {
    "name": "ipython",
    "version": 3
   },
   "file_extension": ".py",
   "mimetype": "text/x-python",
   "name": "python",
   "nbconvert_exporter": "python",
   "pygments_lexer": "ipython3",
   "version": "3.7.1"
  }
 },
 "nbformat": 4,
 "nbformat_minor": 2
}
