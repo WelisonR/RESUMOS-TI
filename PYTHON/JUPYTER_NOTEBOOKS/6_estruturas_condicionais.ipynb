{
 "cells": [
  {
   "cell_type": "markdown",
   "metadata": {},
   "source": [
    "# Estruturas condicionais"
   ]
  },
  {
   "cell_type": "code",
   "execution_count": null,
   "metadata": {},
   "outputs": [],
   "source": [
    "def nota_conceito(valor):\n",
    "    nota = float(valor)\n",
    "    \n",
    "    if nota > 10.0:\n",
    "        return 'Nota inválida'\n",
    "    elif nota >= 9.1:\n",
    "        return 'A'\n",
    "    elif nota >= 8.1:\n",
    "        return 'A-'\n",
    "    elif nota >= 7.1:\n",
    "        return 'B'\n",
    "    elif nota >= 6.1:\n",
    "        return 'B-'\n",
    "    elif nota >= 5.1:\n",
    "        return 'C'\n",
    "    elif nota >= 4.1:\n",
    "        return 'C-'\n",
    "    elif nota >= 3.1:\n",
    "        return 'D'\n",
    "    elif nota >= 2.1:\n",
    "        return 'D-'\n",
    "    elif nota >= 1.1:\n",
    "        return 'E'\n",
    "    elif nota >= 0:\n",
    "        return 'E-'\n",
    "    else:\n",
    "        return 'Nota inválida'\n",
    "    \n",
    "if __name__ == '__main__':\n",
    "    valor_informado = input('Nota do aluno: ')\n",
    "    conceito = nota_conceito(valor_informado)\n",
    "    print(conceito)"
   ]
  },
  {
   "cell_type": "code",
   "execution_count": null,
   "metadata": {},
   "outputs": [],
   "source": [
    "def faixa_etaria(idade):\n",
    "    if 0 <= idade < 18:\n",
    "        return 'Menor de idade'\n",
    "    elif idade in range(18, 65):\n",
    "        return 'Adulto'\n",
    "    elif idade in range(65, 100):\n",
    "        return 'Melhor idade'\n",
    "    elif idade >= 100:\n",
    "        return 'Centenário'\n",
    "    else:\n",
    "        return 'idade inválida'\n",
    "    \n",
    "if __name__ == '__main__':\n",
    "    for idade in (3, 19, 70, 112, -14):\n",
    "        print(f'{idade}: {faixa_etaria(idade)}')"
   ]
  }
 ],
 "metadata": {
  "kernelspec": {
   "display_name": "Python 3",
   "language": "python",
   "name": "python3"
  },
  "language_info": {
   "codemirror_mode": {
    "name": "ipython",
    "version": 3
   },
   "file_extension": ".py",
   "mimetype": "text/x-python",
   "name": "python",
   "nbconvert_exporter": "python",
   "pygments_lexer": "ipython3",
   "version": "3.7.1"
  }
 },
 "nbformat": 4,
 "nbformat_minor": 2
}
