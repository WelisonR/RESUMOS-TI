{
 "cells": [
  {
   "cell_type": "markdown",
   "metadata": {},
   "source": [
    "# Exemplo de problema com argumento de função\n",
    "* Não recomenda-se utilizar argumentos variáveis."
   ]
  },
  {
   "cell_type": "code",
   "execution_count": null,
   "metadata": {},
   "outputs": [],
   "source": [
    "# Lista do argumento é mutável, caso fosse uma tupla não seria\n",
    "def fibonacci(sequencia=[0, 1]):\n",
    "    sequencia.append(sequencia[-1] + sequencia[-2])\n",
    "    return sequencia\n",
    "\n",
    "\n",
    "if __name__ == '__main__':\n",
    "    inicio = fibonacci()\n",
    "    print(inicio, id(inicio))\n",
    "    print(fibonacci(inicio))\n",
    "    restart = fibonacci()\n",
    "    print(restart, id(restart))\n",
    "    assert restart == [0, 1, 1]\n"
   ]
  },
  {
   "cell_type": "code",
   "execution_count": null,
   "metadata": {},
   "outputs": [],
   "source": [
    "# Reinicia-se 'sequencia' internamente. Pode-ser usar tuplas.\n",
    "def fibonacci(sequencia=None):\n",
    "    # Se sequência é falso (None), retorna [0, 1]\n",
    "    sequencia = sequencia or [0, 1]\n",
    "    sequencia.append(sequencia[-1] + sequencia[-2])\n",
    "    return sequencia\n",
    "\n",
    "\n",
    "if __name__ == '__main__':\n",
    "    inicio = fibonacci()\n",
    "    print(inicio, id(inicio))\n",
    "    print(fibonacci(inicio))\n",
    "    restart = fibonacci()\n",
    "    print(restart, id(restart))\n",
    "    assert restart == [0, 1, 1]"
   ]
  }
 ],
 "metadata": {
  "kernelspec": {
   "display_name": "Python 3",
   "language": "python",
   "name": "python3"
  },
  "language_info": {
   "codemirror_mode": {
    "name": "ipython",
    "version": 3
   },
   "file_extension": ".py",
   "mimetype": "text/x-python",
   "name": "python",
   "nbconvert_exporter": "python",
   "pygments_lexer": "ipython3",
   "version": "3.7.1"
  }
 },
 "nbformat": 4,
 "nbformat_minor": 2
}
