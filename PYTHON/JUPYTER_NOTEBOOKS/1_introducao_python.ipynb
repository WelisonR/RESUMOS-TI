{
 "cells": [
  {
   "cell_type": "code",
   "execution_count": null,
   "metadata": {},
   "outputs": [],
   "source": [
    "import this"
   ]
  },
  {
   "cell_type": "markdown",
   "metadata": {},
   "source": [
    "# INTRODUÇÃO AO PYTHON\n",
    "* Encoding: `# -*- coding: utf-8 -*-` permite ao Python2 utilizar acentuações sem problemas.\n",
    "* Shebang para executar o arquivo .py diretamente: `# !/usr/local/bin/python3`.\n",
    "\n",
    "![Introdução ao Python](https://i.imgur.com/EKzOp0A.jpg)"
   ]
  },
  {
   "cell_type": "markdown",
   "metadata": {},
   "source": [
    "## TIPOS BÁSICOS DE DADOS EM PYTHON\n",
    "* Os tipos básicos em Python são implementados através de classes, e podem possuir métodos.\n",
    "* Lista de tipos:\n",
    "\n",
    "| **Tipo** | **Seção**   | **Exemplos**                            |\n",
    "|----------|-------------|-----------------------------------------|\n",
    "| bool     |             | True ou False                           |\n",
    "| int      | Números     | 10                                      |\n",
    "| float    | Números     | 93.3                                    |\n",
    "| str      | Strings     | 'Joãozinho' ou \"Joãozinho\"              |\n",
    "| list     | Listas      | [1, 2, 'ab']                            |\n",
    "| tuple    | Tupla       | (1, 2, 3,)                              |\n",
    "| dict     | Dicionários | {'nome': 'vailuquinha', 'altura': 10.4} |\n",
    "| NoneType |             | None                                    |\n"
   ]
  },
  {
   "cell_type": "markdown",
   "metadata": {},
   "source": [
    "# Builtins\n",
    "* Módulo embutido na linguagem, importado automaticamente.\n",
    "* Os tipos primitivos pertencem a classe `__builtins__`.\n",
    "* Por convenção, utiliza-se `'__x__'` para identificar classes do próprio Python."
   ]
  },
  {
   "cell_type": "code",
   "execution_count": null,
   "metadata": {},
   "outputs": [],
   "source": [
    "# Apresenta as classes disponíveis no escopo\n",
    "# dir()\n",
    "dir(__builtins__)\n",
    "\n",
    "\n",
    "# Apresenta instruções para utilizar a função print\n",
    "# help()\n",
    "# help(print)"
   ]
  },
  {
   "cell_type": "markdown",
   "metadata": {},
   "source": [
    "# Módulo principal"
   ]
  },
  {
   "cell_type": "code",
   "execution_count": null,
   "metadata": {},
   "outputs": [],
   "source": [
    "# indica se é o módulo principal\n",
    "if __name__ == '__main__':\n",
    "    print('Nome do módulo', __name__)"
   ]
  },
  {
   "cell_type": "markdown",
   "metadata": {},
   "source": [
    "# Comentários"
   ]
  },
  {
   "cell_type": "code",
   "execution_count": null,
   "metadata": {},
   "outputs": [],
   "source": [
    "# Exemplo de variáveis\n",
    "salario = 3450.45\n",
    "despesas = 2465.2\n",
    "\n",
    "\"\"\"\n",
    "Apresenta o valor que sobra ao final do mês!\n",
    "\"\"\"\n",
    "\n",
    "print(salario - despesas)\n",
    "\n",
    "\n",
    "'''\n",
    "Comentários assim também são válidos!\n",
    "'''"
   ]
  }
 ],
 "metadata": {
  "kernelspec": {
   "display_name": "Python 3",
   "language": "python",
   "name": "python3"
  },
  "language_info": {
   "codemirror_mode": {
    "name": "ipython",
    "version": 3
   },
   "file_extension": ".py",
   "mimetype": "text/x-python",
   "name": "python",
   "nbconvert_exporter": "python",
   "pygments_lexer": "ipython3",
   "version": "3.7.1"
  }
 },
 "nbformat": 4,
 "nbformat_minor": 2
}
