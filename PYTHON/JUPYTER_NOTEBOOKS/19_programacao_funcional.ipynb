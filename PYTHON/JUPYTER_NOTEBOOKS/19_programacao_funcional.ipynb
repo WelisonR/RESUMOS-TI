{
 "cells": [
  {
   "cell_type": "markdown",
   "metadata": {},
   "source": [
    "# Conceitos\n",
    "\n",
    "* First Class Functions - Funções de Primeira Classe\n",
    " * Permite a linguagem armazenar funções como dados (atributos).\n",
    "\n",
    "* High Order Functions - Funções de Alta Ordem\n",
    " * Funções que conseguem receber outras funções como parâmetro e que pode retornar uma função.\n",
    "\n",
    "* Funções anônimas\n",
    " *  Caso de aplicação de funções `lambda`.\n",
    "\n",
    "* Closure\n",
    " * Consciência do escopo que envolve a função.\n",
    "\n",
    "* Recursion\n",
    "\n",
    "* Immutability\n",
    " * Principal diferencial em relação ao paradigma de POO.\n",
    "\n",
    "* Lazy Evaluation - Avaliação tardia\n",
    " * Processamento de dados parcialmente. Ex.: `generator`."
   ]
  },
  {
   "cell_type": "markdown",
   "metadata": {},
   "source": [
    "# Funções de Primeira Classe"
   ]
  },
  {
   "cell_type": "code",
   "execution_count": 5,
   "metadata": {},
   "outputs": [
    {
     "name": "stdout",
     "output_type": "stream",
     "text": [
      "O dobro de 1 é 2\n",
      "O quadrado de 2 é 4\n",
      "O dobro de 3 é 6\n",
      "O quadrado de 4 é 16\n",
      "O dobro de 5 é 10\n",
      "O quadrado de 6 é 36\n",
      "O dobro de 7 é 14\n",
      "O quadrado de 8 é 64\n",
      "O dobro de 9 é 18\n",
      "O quadrado de 10 é 100\n",
      "((<function dobro at 0x7f9f9c6226a8>, 1), (<function quadrado at 0x7f9f9c622d08>, 2), (<function dobro at 0x7f9f9c6226a8>, 3), (<function quadrado at 0x7f9f9c622d08>, 4), (<function dobro at 0x7f9f9c6226a8>, 5), (<function quadrado at 0x7f9f9c622d08>, 6), (<function dobro at 0x7f9f9c6226a8>, 7), (<function quadrado at 0x7f9f9c622d08>, 8), (<function dobro at 0x7f9f9c6226a8>, 9), (<function quadrado at 0x7f9f9c622d08>, 10))\n"
     ]
    }
   ],
   "source": [
    "def dobro(x):\n",
    "    return x * 2\n",
    "\n",
    "\n",
    "def quadrado(x):\n",
    "    return x ** 2\n",
    "\n",
    "\n",
    "if __name__ == '__main__':\n",
    "    funcs = [dobro, quadrado] * 5\n",
    "    # zip - agrega a função a um número\n",
    "    # print(tuple(zip(funcs, range(1, 11))))\n",
    "    for func, numero in zip(funcs, range(1, 11)):\n",
    "        print(f'O {func.__name__} de {numero} é {func(numero)}')\n",
    "        \n"
   ]
  },
  {
   "cell_type": "markdown",
   "metadata": {},
   "source": [
    "# Funções de Alta Ordem"
   ]
  },
  {
   "cell_type": "code",
   "execution_count": 7,
   "metadata": {},
   "outputs": [
    {
     "name": "stdout",
     "output_type": "stream",
     "text": [
      "Processando: Dobros de 1 a 10\n",
      "1 => 2\n",
      "2 => 4\n",
      "3 => 6\n",
      "4 => 8\n",
      "5 => 10\n",
      "6 => 12\n",
      "7 => 14\n",
      "8 => 16\n",
      "9 => 18\n",
      "10 => 20\n",
      "<class 'range'>\n"
     ]
    }
   ],
   "source": [
    "def dobro(x):\n",
    "    return x * 2\n",
    "\n",
    "def processar(titulo, lista, funcao):\n",
    "    print(f'Processando: {titulo}')\n",
    "    for i in lista:\n",
    "        print(i, '=>', funcao(i))\n",
    "        \n",
    "\n",
    "if __name__ == '__main__':\n",
    "    processar('Dobros de 1 a 10', range(1, 11), dobro)\n"
   ]
  },
  {
   "cell_type": "markdown",
   "metadata": {},
   "source": [
    "# Closure"
   ]
  },
  {
   "cell_type": "code",
   "execution_count": 12,
   "metadata": {},
   "outputs": [
    {
     "name": "stdout",
     "output_type": "stream",
     "text": [
      "<function multiplicar.<locals>.calcular at 0x7f9f9c622ea0> <function multiplicar.<locals>.calcular at 0x7f9f9c622598>\n",
      "O triplo de 6 é 18\n"
     ]
    }
   ],
   "source": [
    "# Utilização de closure, high order functions, lazy evaluation\n",
    "# Calcular tem noção do escopo externo (multiplicar), assim, possui o parâmetro x.\n",
    "def multiplicar(x):\n",
    "    def calcular(y):\n",
    "        return x * y\n",
    "    return calcular\n",
    "\n",
    "if __name__ == '__main__':\n",
    "    dobro = multiplicar(2)\n",
    "    triplo = multiplicar(3)\n",
    "    print(dobro, triplo)\n",
    "    print(f'O triplo de 6 é {triplo(6)}')"
   ]
  },
  {
   "cell_type": "markdown",
   "metadata": {},
   "source": [
    "# Funções lambda"
   ]
  },
  {
   "cell_type": "code",
   "execution_count": 17,
   "metadata": {},
   "outputs": [
    {
     "name": "stdout",
     "output_type": "stream",
     "text": [
      "Preços totais:  (20, 60, 70)\n",
      "Total geral:  150\n"
     ]
    }
   ],
   "source": [
    "compras = (\n",
    "    {'quantidade': 2, 'preco': 10},\n",
    "    {'quantidade': 3, 'preco': 20},\n",
    "    {'quantidade': 5, 'preco': 14},\n",
    ")\n",
    "\n",
    "totais = tuple(\n",
    "    map(\n",
    "        lambda compra: compra['quantidade'] * compra['preco'],\n",
    "        compras\n",
    "    )\n",
    ")\n",
    "\n",
    "print('Preços totais: ', totais)\n",
    "print('Total geral: ', sum(totais))"
   ]
  },
  {
   "cell_type": "markdown",
   "metadata": {},
   "source": [
    "## lambda"
   ]
  },
  {
   "cell_type": "code",
   "execution_count": 27,
   "metadata": {},
   "outputs": [
    {
     "name": "stdout",
     "output_type": "stream",
     "text": [
      "[2, 4, 6]\n",
      "['Lucas', 'Wally']\n",
      "['Lucas tem 19 anos.', 'Wally tem 20 anos.']\n"
     ]
    }
   ],
   "source": [
    "lista_1 = [1, 2, 3]\n",
    "dobro = map(lambda x: x * 2, lista_1)\n",
    "print(list(dobro))\n",
    "\n",
    "lista_2 = [\n",
    "    {'nome': 'Lucas', 'idade': 19},\n",
    "    {'nome': 'Wally', 'idade': 20}\n",
    "]\n",
    "\n",
    "nomes = map(lambda p: p['nome'], lista_2)\n",
    "print(list(nomes))\n",
    "\n",
    "frases = map(lambda i: f'{i[\"nome\"]} tem {i[\"idade\"]} anos.', lista_2)\n",
    "print(list(frases))"
   ]
  },
  {
   "cell_type": "markdown",
   "metadata": {},
   "source": [
    "## filter"
   ]
  },
  {
   "cell_type": "code",
   "execution_count": 32,
   "metadata": {},
   "outputs": [
    {
     "name": "stdout",
     "output_type": "stream",
     "text": [
      "[{'nome': 'Marcia', 'idade': 15}, {'nome': 'Luana', 'idade': 3}]\n",
      "[{'nome': 'Mary', 'idade': 31}, {'nome': 'José', 'idade': 19}, {'nome': 'Ana', 'idade': 51}]\n"
     ]
    }
   ],
   "source": [
    "pessoas = [\n",
    "    {'nome': 'Mary', 'idade': 31},\n",
    "    {'nome': 'José', 'idade': 19},\n",
    "    {'nome': 'Marcia', 'idade': 15},\n",
    "    {'nome': 'Ana', 'idade': 51},\n",
    "    {'nome': 'Luana', 'idade': 3},\n",
    "]\n",
    "\n",
    "menores = filter(lambda p: p['idade'] < 18, pessoas)\n",
    "print(list(menores))\n",
    "\n",
    "nomes_pequenos = filter(lambda p: len(p['nome']) < 5, pessoas)\n",
    "print(list(nomes_pequenos))"
   ]
  },
  {
   "cell_type": "markdown",
   "metadata": {},
   "source": [
    "## Reduce"
   ]
  },
  {
   "cell_type": "code",
   "execution_count": 37,
   "metadata": {},
   "outputs": [
    {
     "name": "stdout",
     "output_type": "stream",
     "text": [
      "18\n"
     ]
    }
   ],
   "source": [
    "from functools import reduce\n",
    "\n",
    "pessoas = [\n",
    "    {'nome': 'Mary', 'idade': 31},\n",
    "    {'nome': 'José', 'idade': 19},\n",
    "    {'nome': 'Marcia', 'idade': 15},\n",
    "    {'nome': 'Ana', 'idade': 51},\n",
    "    {'nome': 'Luana', 'idade': 3},\n",
    "]\n",
    "\n",
    "so_idades = map(lambda p: p['idade'], pessoas)\n",
    "menores = filter(lambda idade: idade < 18, so_idades)\n",
    "# Acumulador começa em zero\n",
    "soma_idades = reduce(lambda acumulador, idade: acumulador + idade, menores, 0)\n",
    "\n",
    "print(soma_idades)"
   ]
  },
  {
   "cell_type": "code",
   "execution_count": 44,
   "metadata": {},
   "outputs": [
    {
     "name": "stdout",
     "output_type": "stream",
     "text": [
      "10! = 720\n"
     ]
    }
   ],
   "source": [
    "def fatorial(n):\n",
    "    return n * (fatorial(n-1) if (n-1) > 1 else 1)\n",
    "\n",
    "\n",
    "if __name__ == '__main__':\n",
    "    print(f'10! = {fatorial(6)}')"
   ]
  },
  {
   "cell_type": "markdown",
   "metadata": {},
   "source": [
    "# Imutabilidade"
   ]
  },
  {
   "cell_type": "code",
   "execution_count": 54,
   "metadata": {},
   "outputs": [
    {
     "name": "stdout",
     "output_type": "stream",
     "text": [
      "Meses com 31 dias:\n",
      " - January\n",
      " - March\n",
      " - May\n",
      " - July\n",
      " - August\n",
      " - October\n",
      " - December\n"
     ]
    }
   ],
   "source": [
    "from calendar import mdays, month_name\n",
    "from functools import reduce\n",
    "\n",
    "\n",
    "# Meses do ano com 31 dias\n",
    "# 1. (filter) Tomar os indices de todos os meses com 31 dias\n",
    "# 2. (map) Transforma índices em nomes\n",
    "# 3. (reduce) Junta tudo para imprimir\n",
    "\n",
    "\n",
    "meses_31 = filter(lambda mes: mdays[mes] == 31, range(1, 13))\n",
    "meses_nomes = map(lambda mes: month_name[mes], meses_31)\n",
    "juntar_meses = reduce(lambda todos, nome_mes: f'{todos}\\n - {nome_mes}', meses_nomes, 'Meses com 31 dias:')\n",
    "print(juntar_meses)"
   ]
  },
  {
   "cell_type": "markdown",
   "metadata": {},
   "source": [
    "## generator e yield"
   ]
  },
  {
   "cell_type": "code",
   "execution_count": 71,
   "metadata": {},
   "outputs": [
    {
     "name": "stdout",
     "output_type": "stream",
     "text": [
      "<class 'generator'>\n",
      "vermelho\n",
      "laranja\n",
      "amarelo\n",
      "verde\n",
      "azul\n",
      "índigo\n",
      "violeta\n"
     ]
    }
   ],
   "source": [
    "def cores_arco_iris():\n",
    "    yield 'vermelho'\n",
    "    yield 'laranja'\n",
    "    yield 'amarelo'\n",
    "    yield 'verde'\n",
    "    yield 'azul'\n",
    "    yield 'índigo'\n",
    "    yield 'violeta'\n",
    "    \n",
    "if __name__ == '__main__':\n",
    "    generator = cores_arco_iris()\n",
    "    print(type(generator))\n",
    "    # while True:\n",
    "    #     try:\n",
    "    #         print(next(generator))\n",
    "    #     except Exception as e:\n",
    "    #         print(type(e))\n",
    "    #         break\n",
    "    for cor in generator:\n",
    "        print(cor)"
   ]
  },
  {
   "cell_type": "code",
   "execution_count": 77,
   "metadata": {},
   "outputs": [
    {
     "name": "stdout",
     "output_type": "stream",
     "text": [
      "1\n",
      "2\n",
      "3\n",
      "4\n",
      "5\n",
      "6\n",
      "7\n",
      "8\n",
      "9\n",
      "10\n"
     ]
    }
   ],
   "source": [
    "def sequence():\n",
    "    num = 0\n",
    "    while True:\n",
    "        num += 1\n",
    "        yield num\n",
    "\n",
    "sequence = sequence()\n",
    "for i in range(0, 10):\n",
    "    print(next(sequence))"
   ]
  }
 ],
 "metadata": {
  "kernelspec": {
   "display_name": "Python 3",
   "language": "python",
   "name": "python3"
  },
  "language_info": {
   "codemirror_mode": {
    "name": "ipython",
    "version": 3
   },
   "file_extension": ".py",
   "mimetype": "text/x-python",
   "name": "python",
   "nbconvert_exporter": "python",
   "pygments_lexer": "ipython3",
   "version": "3.7.1"
  }
 },
 "nbformat": 4,
 "nbformat_minor": 2
}
