{
 "cells": [
  {
   "cell_type": "markdown",
   "metadata": {},
   "source": [
    "# Comprehension"
   ]
  },
  {
   "cell_type": "code",
   "execution_count": null,
   "metadata": {},
   "outputs": [],
   "source": [
    "# [ expressão for item in list ]\n",
    "dobros = [i * 2 for i in range(10)]\n",
    "print(dobros)"
   ]
  },
  {
   "cell_type": "code",
   "execution_count": null,
   "metadata": {},
   "outputs": [],
   "source": [
    "# [ expressão for item in list if condicional]\n",
    "dobros_pares = [i * 2 for i in range(10) if i % 2 == 0]\n",
    "print(dobros_pares)"
   ]
  },
  {
   "cell_type": "code",
   "execution_count": null,
   "metadata": {},
   "outputs": [],
   "source": [
    "dicionario = {i: i * 2 for i in range(10) if i % 2 == 0}\n",
    "print(dicionario)\n",
    "\n",
    "for numero, dobro in dicionario.items():\n",
    "    print('{} x 2 = {}'.format(numero, dobro))"
   ]
  },
  {
   "cell_type": "markdown",
   "metadata": {},
   "source": [
    "## Generator"
   ]
  },
  {
   "cell_type": "code",
   "execution_count": null,
   "metadata": {},
   "outputs": [],
   "source": [
    "# Gasta menos memória, gera os dados sobre demanda\n",
    "generator = (i ** 2 for i in range(10) if i % 2 == 0)\n",
    "print(type(generator))\n",
    "print(next(generator))  # saída: 0\n",
    "print(next(generator))  # saída: 4\n",
    "print(next(generator))  # saída: 16\n",
    "print(next(generator))  # saída: 36\n",
    "print(next(generator))  # saída: 64\n",
    "# print(next(generator))# erro, pois findou-se os elementos"
   ]
  },
  {
   "cell_type": "code",
   "execution_count": null,
   "metadata": {},
   "outputs": [],
   "source": [
    "# Gasta menos memória, gera os dados sobre demanda\n",
    "generator = (i ** 2 for i in range(10) if i % 2 == 0)\n",
    "\n",
    "# Num for, não é necessário o next\n",
    "for numero in generator:\n",
    "    print(numero)"
   ]
  },
  {
   "cell_type": "markdown",
   "metadata": {},
   "source": [
    "## Switch usando comprehension"
   ]
  },
  {
   "cell_type": "code",
   "execution_count": null,
   "metadata": {},
   "outputs": [],
   "source": [
    "def get_tipo_dia(dia):\n",
    "    dias = {\n",
    "        (1, 7): 'Fim de semana',\n",
    "        tuple(range(2, 7)): 'Dia de semana',\n",
    "    }\n",
    "    dia_escolhido = (tipo for numeros, tipo in dias.items() if dia in numeros)\n",
    "    return next(dia_escolhido, '** dia inválido **')\n",
    "\n",
    "\n",
    "if __name__ == '__main__':\n",
    "    for dia in range(0, 9):\n",
    "        print('{}: {}'.format(dia, get_tipo_dia(dia)))"
   ]
  }
 ],
 "metadata": {
  "kernelspec": {
   "display_name": "Python 3",
   "language": "python",
   "name": "python3"
  },
  "language_info": {
   "codemirror_mode": {
    "name": "ipython",
    "version": 3
   },
   "file_extension": ".py",
   "mimetype": "text/x-python",
   "name": "python",
   "nbconvert_exporter": "python",
   "pygments_lexer": "ipython3",
   "version": "3.7.1"
  }
 },
 "nbformat": 4,
 "nbformat_minor": 2
}
