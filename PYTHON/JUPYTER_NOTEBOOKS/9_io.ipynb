{
 "cells": [
  {
   "cell_type": "markdown",
   "metadata": {},
   "source": [
    "# Manipulação de arquivos\n",
    "* É necessário fechar o arquivo, mesmo que ocorra algum impeditivo durante o processo.\n",
    "* `except` possibilita o arquivo ser executado em integra, mesmo que ocorra um erro.\n",
    "* `finally` sempre é executado"
   ]
  },
  {
   "cell_type": "code",
   "execution_count": null,
   "metadata": {},
   "outputs": [],
   "source": [
    "arquivo = open('./manipulacao_arquivos/pessoas.csv')\n",
    "dados = arquivo.read()\n",
    "arquivo.close()\n",
    "\n",
    "for registro in dados.splitlines():\n",
    "    registro = registro.split(',')\n",
    "    print('Nome: {}, Idade: {}'.format(*registro))"
   ]
  },
  {
   "cell_type": "code",
   "execution_count": null,
   "metadata": {},
   "outputs": [],
   "source": [
    "arquivo = open('./manipulacao_arquivos/pessoas.csv')\n",
    "for registro in arquivo:\n",
    "    registro = registro.split(',')\n",
    "    print('Nome: {}, Idade: {}'.format(*registro))\n",
    "arquivo.close()"
   ]
  },
  {
   "cell_type": "code",
   "execution_count": null,
   "metadata": {},
   "outputs": [],
   "source": [
    "arquivo = open('./manipulacao_arquivos/pessoas.csv')\n",
    "for registro in arquivo:\n",
    "    registro = registro.strip('\\n').split(',')\n",
    "    print('Nome: {}, Idade: {}'.format(*registro))\n",
    "arquivo.close()"
   ]
  },
  {
   "cell_type": "code",
   "execution_count": null,
   "metadata": {},
   "outputs": [],
   "source": [
    "try:\n",
    "    arquivo = open('./manipulacao_arquivos/pessoas.csv')\n",
    "\n",
    "    for registro in arquivo:\n",
    "        registro = registro.strip('\\n').split(',')\n",
    "        print('Nome: {}, Idade: {}'.format(*registro))\n",
    "except IndexError:\n",
    "    pass\n",
    "finally:\n",
    "    arquivo.close()\n",
    "\n",
    "\n",
    "if arquivo.closed:\n",
    "    print('\\nArquivo fechado!')"
   ]
  },
  {
   "cell_type": "code",
   "execution_count": null,
   "metadata": {},
   "outputs": [],
   "source": [
    "# with fecha o arquivo automaticamente\n",
    "with open('./manipulacao_arquivos/pessoas.csv') as arquivo:\n",
    "    for registro in arquivo:\n",
    "        registro = registro.strip('\\n').split(',')\n",
    "        print('Nome: {}, Idade: {}'.format(*registro))\n",
    "\n",
    "\n",
    "if arquivo.closed:\n",
    "    print('\\nArquivo fechado!')"
   ]
  },
  {
   "cell_type": "code",
   "execution_count": null,
   "metadata": {},
   "outputs": [],
   "source": [
    "# with fecha o arquivo automaticamente\n",
    "with open('./manipulacao_arquivos/pessoas.csv') as arquivo:\n",
    "    with open('./manipulacao_arquivos/pessoas.txt', 'w') as saida:\n",
    "        for registro in arquivo:\n",
    "            registro = registro.strip().split(',')\n",
    "            print('Nome: {}, Idade: {}'.format(*registro), file=saida)\n",
    "\n",
    "\n",
    "if arquivo.closed:\n",
    "    print('\\nArquivo fechado!')\n",
    "\n",
    "\n",
    "if saida.closed:\n",
    "    print('Saida concluída!')"
   ]
  },
  {
   "cell_type": "code",
   "execution_count": null,
   "metadata": {},
   "outputs": [],
   "source": [
    "import csv\n",
    "\n",
    "with open('./manipulacao_arquivos/pessoas.csv') as entrada:\n",
    "    for pessoa in csv.reader(entrada):\n",
    "        print('Nome: {}, Idade: {}'.format(*pessoa))"
   ]
  },
  {
   "cell_type": "code",
   "execution_count": null,
   "metadata": {},
   "outputs": [],
   "source": [
    "import csv\n",
    "from urllib import request\n",
    "\n",
    "def read(url):\n",
    "    with request.urlopen(url) as entrada:\n",
    "        print('Baixando o CSV...')\n",
    "        dados = entrada.read().decode('latin1')\n",
    "        print('Download completo!')\n",
    "        for cidade in csv.reader(dados.splitlines()):\n",
    "            print('{}: {}'.format(cidade[8], cidade[3]))\n",
    "\n",
    "\n",
    "if __name__ == '__main__':\n",
    "    # O 'r' evita a interpretação indevida da string\n",
    "    read(r'http://files.cod3r.com.br/curso-python/desafio-ibge.csv')"
   ]
  }
 ],
 "metadata": {
  "kernelspec": {
   "display_name": "Python 3",
   "language": "python",
   "name": "python3"
  },
  "language_info": {
   "codemirror_mode": {
    "name": "ipython",
    "version": 3
   },
   "file_extension": ".py",
   "mimetype": "text/x-python",
   "name": "python",
   "nbconvert_exporter": "python",
   "pygments_lexer": "ipython3",
   "version": "3.7.1"
  }
 },
 "nbformat": 4,
 "nbformat_minor": 2
}
