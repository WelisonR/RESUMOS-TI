{
 "cells": [
  {
   "cell_type": "markdown",
   "metadata": {},
   "source": [
    "# Laços de repetição"
   ]
  },
  {
   "cell_type": "markdown",
   "metadata": {},
   "source": [
    "## while"
   ]
  },
  {
   "cell_type": "code",
   "execution_count": null,
   "metadata": {},
   "outputs": [],
   "source": [
    "from random import randint\n",
    "\n",
    "numero_informado = -1\n",
    "numero_secreto = randint(0, 9)\n",
    "\n",
    "while numero_informado != numero_secreto:\n",
    "    numero_informado = int(input('Informe o número: '))\n",
    "    \n",
    "print('Número secreto {} encontrado'.format(numero_secreto))\n",
    "\n",
    "# while True:\n",
    "#     print('Nice!')"
   ]
  },
  {
   "cell_type": "markdown",
   "metadata": {},
   "source": [
    "## for"
   ]
  },
  {
   "cell_type": "code",
   "execution_count": null,
   "metadata": {},
   "outputs": [],
   "source": [
    "# for k in range(0, 4, -1):\n",
    "#     print(k)\n",
    "    \n",
    "# k não converge a um fim, não imprime nada"
   ]
  },
  {
   "cell_type": "code",
   "execution_count": null,
   "metadata": {},
   "outputs": [],
   "source": [
    "for i in range(1, 11):\n",
    "    print('i = {}'.format(i))\n",
    "\n",
    "for j in range(10):\n",
    "    print(f'j = {j}')\n",
    "   \n",
    "combinacoes = []\n",
    "for x in range(1, 11):\n",
    "    for y in range(1, 11):\n",
    "        combinacoes += [[x, y]]\n",
    "\n",
    "print(combinacoes)"
   ]
  },
  {
   "cell_type": "code",
   "execution_count": null,
   "metadata": {},
   "outputs": [],
   "source": [
    "palavra = 'paralelepípedo'\n",
    "for letra in palavra:\n",
    "    print(letra, end=' ')\n",
    "\n",
    "aprovados = ['Wally', 'Wally2', 'Wally3']\n",
    "for nome in aprovados:\n",
    "    print(nome)\n",
    "    \n",
    "for i, nome in enumerate(aprovados):\n",
    "    print(i+1, nome)\n",
    "    \n",
    "dias_semana = ('Domingo', 'Segunda', 'Terça',\n",
    "              'Quarta', 'Quinta', 'Sexta', 'Sábado')\n",
    "for dia in dias_semana:\n",
    "    print(f'Hoje é {dia}')\n",
    "    \n",
    "for letra in set('muuuito bacana!'):\n",
    "    print(letra)"
   ]
  },
  {
   "cell_type": "code",
   "execution_count": null,
   "metadata": {},
   "outputs": [],
   "source": [
    "produto = {\n",
    "    'nome': 'Caneta Chic',\n",
    "    'preco': 1.99,\n",
    "    'importada': True,\n",
    "    'estoque': 793\n",
    "}\n",
    "\n",
    "for chave in produto:\n",
    "    print(chave)\n",
    "\n",
    "for valor in produto.values():\n",
    "    print(valor)\n",
    "\n",
    "for chave, valor in produto.items():\n",
    "    print(chave, '=', valor)\n",
    "    \n",
    "print(chave, valor)"
   ]
  },
  {
   "cell_type": "code",
   "execution_count": null,
   "metadata": {},
   "outputs": [],
   "source": [
    "for x in range(1, 11):\n",
    "    if x % 2 == 0:\n",
    "        continue\n",
    "    print(x)\n",
    "\n",
    "for x in range(1, 11):\n",
    "    if x == 5:\n",
    "        break\n",
    "    print(x)"
   ]
  },
  {
   "cell_type": "code",
   "execution_count": null,
   "metadata": {},
   "outputs": [],
   "source": [
    "# Caso o break não seja acionado, o else é realizado ao FINAL do loop\n",
    "for i in range(1, 10):\n",
    "    if i == 6:\n",
    "        break\n",
    "    print(i)\n",
    "else:\n",
    "    print('Fim!')"
   ]
  },
  {
   "cell_type": "code",
   "execution_count": null,
   "metadata": {},
   "outputs": [],
   "source": [
    "from random import randint\n",
    "\n",
    "DADO = 5\n",
    "\n",
    "def sortear_dado():\n",
    "    return randint(1, 6)\n",
    "\n",
    "for i in range(1, 7):\n",
    "    if i % 2 == 1:\n",
    "        continue\n",
    "        \n",
    "    if i % 2 == 0 and sortear_dado() == DADO:\n",
    "        print('Acertooou!', i)\n",
    "        break\n",
    "else:\n",
    "    print('Errooou!')"
   ]
  },
  {
   "cell_type": "markdown",
   "metadata": {},
   "source": [
    "## for com/sem else"
   ]
  },
  {
   "cell_type": "code",
   "execution_count": null,
   "metadata": {},
   "outputs": [],
   "source": [
    "# Implementação sem utilizar o else no for\n",
    "# Priorizar constantes em letras maíusculas\n",
    "PALAVRAS_PROIBIDAS = ('futebol', 'relião', 'política')\n",
    "textos = [\n",
    "    'João gosta de futebol e política',\n",
    "    'A praia foi divertida',\n",
    "]\n",
    "\n",
    "for texto in textos:\n",
    "    found = False\n",
    "    for palavra in texto.lower().split():\n",
    "        if palavra in PALAVRAS_PROIBIDAS:\n",
    "            print('Texto possui palavra proibida: ', palavra)\n",
    "            found = True\n",
    "            break\n",
    "            \n",
    "    if not found:\n",
    "        print('Texto autorizado: ', texto)"
   ]
  },
  {
   "cell_type": "code",
   "execution_count": null,
   "metadata": {},
   "outputs": [],
   "source": [
    "# Implementação usando o else no for\n",
    "PALAVRAS_PROIBIDAS = ('futebol', 'relião', 'política')\n",
    "textos = [\n",
    "    'João gosta de futebol e política',\n",
    "    'A praia foi divertida',\n",
    "]\n",
    "\n",
    "for texto in textos:\n",
    "    for palavra in texto.lower().split():\n",
    "        if palavra in PALAVRAS_PROIBIDAS:\n",
    "            print('Texto possui palavra proibida: ', palavra)\n",
    "            break\n",
    "    else:\n",
    "        print('Texto autorizado: ', texto)"
   ]
  },
  {
   "cell_type": "code",
   "execution_count": null,
   "metadata": {},
   "outputs": [],
   "source": [
    "# Implementação utilizando set\n",
    "PALAVRAS_PROIBIDAS = {'futebol', 'relião', 'política'}\n",
    "textos = [\n",
    "    'João gosta de futebol e política',\n",
    "    'A praia foi divertida',\n",
    "]\n",
    "\n",
    "for texto in textos:\n",
    "    intersecao = PALAVRAS_PROIBIDAS.intersection(set(texto.lower().split()))\n",
    "    if intersecao:\n",
    "        print('Texto possui palavra proibida: ', intersecao)\n",
    "    else:\n",
    "        print('Texto autorizado: ', texto)"
   ]
  }
 ],
 "metadata": {
  "kernelspec": {
   "display_name": "Python 3",
   "language": "python",
   "name": "python3"
  },
  "language_info": {
   "codemirror_mode": {
    "name": "ipython",
    "version": 3
   },
   "file_extension": ".py",
   "mimetype": "text/x-python",
   "name": "python",
   "nbconvert_exporter": "python",
   "pygments_lexer": "ipython3",
   "version": "3.7.1"
  }
 },
 "nbformat": 4,
 "nbformat_minor": 2
}
