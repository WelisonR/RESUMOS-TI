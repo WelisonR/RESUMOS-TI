{
 "cells": [
  {
   "cell_type": "markdown",
   "metadata": {},
   "source": [
    "# Pacotes\n",
    "* Armazenam módulos com funcionalidades que podem ser importadas e utilizadas.\n",
    "* Deve-se ter o arquivo `__init__.py` para ser possível existir um pacote.\n",
    "* Utiliza o Padrão Façade (Fachada)."
   ]
  },
  {
   "cell_type": "code",
   "execution_count": null,
   "metadata": {},
   "outputs": [],
   "source": [
    "# Exemplo de façade\n",
    "from pacotes.pacote1.modulo1 import soma\n",
    "from pacotes.pacote2.modulo1 import sub\n",
    "\n",
    "__all__ = ['soma', 'sub']"
   ]
  },
  {
   "cell_type": "code",
   "execution_count": null,
   "metadata": {},
   "outputs": [],
   "source": [
    "from pacotes.pacote1 import modulo1\n",
    "\n",
    "print(type(modulo1))\n",
    "print(modulo1.soma(2, 3))"
   ]
  },
  {
   "cell_type": "code",
   "execution_count": null,
   "metadata": {},
   "outputs": [],
   "source": [
    "from pacotes.pacote1 import modulo2\n",
    "\n",
    "modulo2.main()"
   ]
  },
  {
   "cell_type": "code",
   "execution_count": null,
   "metadata": {},
   "outputs": [],
   "source": [
    "from pacotes.pacote1 import modulo1 as mod1_soma\n",
    "from pacotes.pacote2 import modulo1 as mod1_sub\n",
    "\n",
    "print('Soma: {}'.format(mod1_soma.soma(1, 2)))\n",
    "print('Subtração: {}'.format(mod1_sub.sub(1, 2)))"
   ]
  },
  {
   "cell_type": "code",
   "execution_count": null,
   "metadata": {},
   "outputs": [],
   "source": [
    "from pacotes.pacote1.modulo1 import soma\n",
    "from pacotes.pacote2.modulo1 import sub\n",
    "\n",
    "print('Soma: ', soma(1, 2))\n",
    "print('Subtração: ', sub(1, 2))"
   ]
  },
  {
   "cell_type": "code",
   "execution_count": null,
   "metadata": {},
   "outputs": [],
   "source": [
    "from pacotes.calc import soma, sub\n",
    "\n",
    "print('Soma: ', soma(3, 5))\n",
    "print('Subtração: ', sub(3, 5))"
   ]
  }
 ],
 "metadata": {
  "kernelspec": {
   "display_name": "Python 3",
   "language": "python",
   "name": "python3"
  },
  "language_info": {
   "codemirror_mode": {
    "name": "ipython",
    "version": 3
   },
   "file_extension": ".py",
   "mimetype": "text/x-python",
   "name": "python",
   "nbconvert_exporter": "python",
   "pygments_lexer": "ipython3",
   "version": "3.7.1"
  }
 },
 "nbformat": 4,
 "nbformat_minor": 2
}
