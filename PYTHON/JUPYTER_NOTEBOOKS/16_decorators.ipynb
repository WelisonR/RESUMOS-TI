{
 "cells": [
  {
   "cell_type": "markdown",
   "metadata": {},
   "source": [
    "# Decorator\n",
    "* Decorator (wrapper), é um padrão de projeto de software que permite adicionar um comportamento a um objeto já existente em tempo de execução. Decorators oferecem uma alternativa flexível ao uso de herança para estender uma funcionalidade, com isso adiciona-se uma responsabilidade ao objeto e não à classe.\n",
    "* 'Decora' a função que recebe como parâmetro - conceito de composição."
   ]
  },
  {
   "cell_type": "code",
   "execution_count": null,
   "metadata": {},
   "outputs": [],
   "source": [
    "def log(function):\n",
    "    def decorator(*args, **kwargs):\n",
    "        print('Inicio da chamada da função: {}'.format(function.__name__))\n",
    "        print('args: {}'.format(args))\n",
    "        print('kwargs: {}'.format(kwargs))\n",
    "        resultado = function(*args, **kwargs)\n",
    "        print('Resultado da chamada: {}'.format(resultado))\n",
    "        return resultado\n",
    "    return decorator\n",
    "\n",
    "\n",
    "@log\n",
    "def soma(x, y):\n",
    "    return x + y\n",
    "\n",
    "\n",
    "@log\n",
    "def sub(x, y):\n",
    "    return x - y\n",
    "\n",
    "\n",
    "if __name__ == '__main__':\n",
    "    print(soma(5, 7))\n",
    "    print(sub(5, y=7))"
   ]
  }
 ],
 "metadata": {
  "kernelspec": {
   "display_name": "Python 3",
   "language": "python",
   "name": "python3"
  },
  "language_info": {
   "codemirror_mode": {
    "name": "ipython",
    "version": 3
   },
   "file_extension": ".py",
   "mimetype": "text/x-python",
   "name": "python",
   "nbconvert_exporter": "python",
   "pygments_lexer": "ipython3",
   "version": "3.7.1"
  }
 },
 "nbformat": 4,
 "nbformat_minor": 2
}
