{
 "cells": [
  {
   "cell_type": "markdown",
   "metadata": {},
   "source": [
    "# Comandos iniciais"
   ]
  },
  {
   "cell_type": "code",
   "execution_count": 1,
   "metadata": {},
   "outputs": [
    {
     "name": "stdout",
     "output_type": "stream",
     "text": [
      "Famoso hello world!\n",
      "Help on built-in function print in module builtins:\n",
      "\n",
      "print(...)\n",
      "    print(value, ..., sep=' ', end='\\n', file=sys.stdout, flush=False)\n",
      "    \n",
      "    Prints the values to a stream, or to sys.stdout by default.\n",
      "    Optional keyword arguments:\n",
      "    file:  a file-like object (stream); defaults to the current sys.stdout.\n",
      "    sep:   string inserted between values, default a space.\n",
      "    end:   string appended after the last value, default a newline.\n",
      "    flush: whether to forcibly flush the stream.\n",
      "\n"
     ]
    },
    {
     "data": {
      "text/plain": [
       "3"
      ]
     },
     "execution_count": 1,
     "metadata": {},
     "output_type": "execute_result"
    }
   ],
   "source": [
    "print('Famoso hello world!')\n",
    "help(print)\n",
    "\n",
    "1 \\\n",
    "+ 2"
   ]
  },
  {
   "cell_type": "markdown",
   "metadata": {},
   "source": [
    "# Tipos básicos de dados"
   ]
  },
  {
   "cell_type": "code",
   "execution_count": 2,
   "metadata": {},
   "outputs": [
    {
     "name": "stdout",
     "output_type": "stream",
     "text": [
      "True\n",
      "False\n",
      "2.2\n",
      "It's a string\n",
      "Você é muito muito muito legal!\n",
      "[1, 2, 3]\n",
      "{'nome': 'Welison', 'idade': 20}\n",
      "None\n"
     ]
    }
   ],
   "source": [
    "print(True)\n",
    "print(False)\n",
    "print(1.2 + 1)\n",
    "print('It\\'s a string')\n",
    "print('Você é ' + 3 * 'muito ' + 'legal!')\n",
    "print([1, 2, 3])\n",
    "print({'nome': 'Welison', 'idade': 20})\n",
    "print(None)"
   ]
  },
  {
   "cell_type": "markdown",
   "metadata": {},
   "source": [
    "# Representação de dados em outras bases"
   ]
  },
  {
   "cell_type": "code",
   "execution_count": 9,
   "metadata": {},
   "outputs": [
    {
     "name": "stdout",
     "output_type": "stream",
     "text": [
      "7, 1, 255\n"
     ]
    }
   ],
   "source": [
    "# BINÁRIO\n",
    "a = 0b111\n",
    "\n",
    "# OCTAL\n",
    "b = 0o1\n",
    "\n",
    "# HEXADECIMAL\n",
    "c = 0xff\n",
    "\n",
    "print(f'{a}, {b}, {c}')"
   ]
  },
  {
   "cell_type": "markdown",
   "metadata": {},
   "source": [
    "# Variáveis"
   ]
  },
  {
   "cell_type": "code",
   "execution_count": 5,
   "metadata": {},
   "outputs": [
    {
     "name": "stdout",
     "output_type": "stream",
     "text": [
      "string\n"
     ]
    },
    {
     "ename": "TypeError",
     "evalue": "can only concatenate str (not \"float\") to str",
     "output_type": "error",
     "traceback": [
      "\u001b[0;31m---------------------------------------------------------------------------\u001b[0m",
      "\u001b[0;31mTypeError\u001b[0m                                 Traceback (most recent call last)",
      "\u001b[0;32m<ipython-input-5-fdc6abd2dad8>\u001b[0m in \u001b[0;36m<module>\u001b[0;34m\u001b[0m\n\u001b[1;32m      6\u001b[0m \u001b[0;34m\u001b[0m\u001b[0m\n\u001b[1;32m      7\u001b[0m \u001b[0;31m# Apresenta erro, pois a linguagem é fortemente tipada\u001b[0m\u001b[0;34m\u001b[0m\u001b[0;34m\u001b[0m\u001b[0;34m\u001b[0m\u001b[0m\n\u001b[0;32m----> 8\u001b[0;31m \u001b[0mprint\u001b[0m\u001b[0;34m(\u001b[0m\u001b[0ma\u001b[0m \u001b[0;34m+\u001b[0m \u001b[0mb\u001b[0m\u001b[0;34m)\u001b[0m\u001b[0;34m\u001b[0m\u001b[0;34m\u001b[0m\u001b[0m\n\u001b[0m",
      "\u001b[0;31mTypeError\u001b[0m: can only concatenate str (not \"float\") to str"
     ]
    }
   ],
   "source": [
    "a = 10\n",
    "b = 5.2\n",
    "\n",
    "a = 'string'\n",
    "print(a)\n",
    "\n",
    "# apresenta erro, pois a linguagem é fortemente tipada\n",
    "# print(a + b)"
   ]
  },
  {
   "cell_type": "markdown",
   "metadata": {},
   "source": [
    "# CONVERSÃO DE TIPOS\n",
    "A linguagem python é fortemente tipada, isto é, dá problemas ao misturar tipos: `print(2 + '2')`."
   ]
  },
  {
   "cell_type": "code",
   "execution_count": 6,
   "metadata": {},
   "outputs": [
    {
     "name": "stdout",
     "output_type": "stream",
     "text": [
      "5\n",
      "23\n",
      "<class 'int'>\n",
      "<class 'str'>\n",
      "5\n",
      "23\n"
     ]
    }
   ],
   "source": [
    "print(2 + 3)\n",
    "print('2' + '3')\n",
    "\n",
    "a = 2\n",
    "b = '3'\n",
    "\n",
    "print(type(a))\n",
    "print(type(b))\n",
    "\n",
    "print(a + int(b))\n",
    "print(str(a) + b)\n",
    "\n",
    "# Erro de conversão\n",
    "# print(2 + int('3hard'))"
   ]
  },
  {
   "cell_type": "code",
   "execution_count": 7,
   "metadata": {},
   "outputs": [
    {
     "name": "stdout",
     "output_type": "stream",
     "text": [
      "<class 'float'>\n",
      "<class 'int'>\n",
      "<class 'float'>\n",
      "<class 'float'>\n",
      "<class 'int'>\n"
     ]
    }
   ],
   "source": [
    "a = 10 / 2\n",
    "b = 10 // 3\n",
    "c = 10 // 3.3 # será float devido ao 3.3\n",
    "d = 2.0 + True\n",
    "e = 2 + False\n",
    "\n",
    "print(type(a))\n",
    "print(type(b))\n",
    "print(type(c))\n",
    "print(type(d))\n",
    "print(type(e))"
   ]
  },
  {
   "cell_type": "markdown",
   "metadata": {},
   "source": [
    "# Tipos numéricos"
   ]
  },
  {
   "cell_type": "code",
   "execution_count": null,
   "metadata": {},
   "outputs": [],
   "source": [
    "# Exemplo de uso de tipos numéricos com suas funções embutidas\n",
    "a = 4.0\n",
    "b = (-2).__abs__()\n",
    "c = abs(-2)\n",
    "\n",
    "print(a.is_integer())\n",
    "print(b == c)"
   ]
  },
  {
   "cell_type": "markdown",
   "metadata": {},
   "source": [
    "## Classe decimal"
   ]
  },
  {
   "cell_type": "code",
   "execution_count": null,
   "metadata": {},
   "outputs": [],
   "source": [
    "# Precisão grande, evita problemas de precisão\n",
    "from decimal import Decimal, getcontext\n",
    "print(1.1 + 2.2)\n",
    "\n",
    "getcontext().prec = 4\n",
    "print(Decimal(1) / Decimal(7))\n",
    "print(Decimal(1.1) + Decimal(2.2))\n",
    "print(Decimal.max(Decimal(1), Decimal(7)))"
   ]
  },
  {
   "cell_type": "markdown",
   "metadata": {},
   "source": [
    "# String\n",
    "* string é imutável, muda-se apenas a variável de referência."
   ]
  },
  {
   "cell_type": "code",
   "execution_count": 13,
   "metadata": {},
   "outputs": [
    {
     "name": "stdout",
     "output_type": "stream",
     "text": [
      "Texto com múltiplas... linhas\n",
      "True\n",
      "WlsnLcs\n",
      "WELISON LUCAS\n",
      "['Welison', 'Lucas']\n",
      "Welison Lucas\n"
     ]
    }
   ],
   "source": [
    "# Não se pode fazer o seguinte:\n",
    "nome = 'Nice name'\n",
    "# nome[0] = 'k'\n",
    "\n",
    "# Escaping\n",
    "\"Dias D'Avila\" == 'Dias D\\'Avila'\n",
    "texto = 'Texto de \"exemplo\"'\n",
    "\n",
    "# String com múltiplas linhas\n",
    "doc = \"\"\"Texto com múltiplas\\\n",
    "... linhas\"\"\"\n",
    "print(doc)"
   ]
  },
  {
   "cell_type": "code",
   "execution_count": 14,
   "metadata": {},
   "outputs": [
    {
     "name": "stdout",
     "output_type": "stream",
     "text": [
      "W\n",
      "s\n",
      "Welison \n",
      "sacuL nosileW\n",
      "scLnslW\n"
     ]
    }
   ],
   "source": [
    "nome = 'Welison Lucas'\n",
    "\n",
    "print(nome[0])\n",
    "print(nome[-1])\n",
    "print(nome[0:8])\n",
    "print(nome[::-1])\n",
    "print(nome[-1::-2])"
   ]
  },
  {
   "cell_type": "code",
   "execution_count": 16,
   "metadata": {},
   "outputs": [
    {
     "name": "stdout",
     "output_type": "stream",
     "text": [
      "False\n",
      "True\n",
      "19\n",
      "!!!python mágico!!!\n",
      "!!!PYTHON MÁGICO!!!\n",
      "Python mágico\n",
      "['!!!Python', 'mágico!!!']\n"
     ]
    }
   ],
   "source": [
    "frase = '!!!Python mágico!!!'\n",
    "\n",
    "print('py' in frase)\n",
    "print('py' not in frase)\n",
    "\n",
    "\n",
    "print(len(frase))\n",
    "print(frase.lower())\n",
    "print(frase.upper())\n",
    "print(frase.strip('!'))\n",
    "print(frase.split(' '))"
   ]
  },
  {
   "cell_type": "markdown",
   "metadata": {},
   "source": [
    "# Interpolação de strings"
   ]
  },
  {
   "cell_type": "code",
   "execution_count": 20,
   "metadata": {},
   "outputs": [
    {
     "name": "stdout",
     "output_type": "stream",
     "text": [
      "Nome: Welison, Idade: 20.04 (True)\n",
      "Nome: Welison, Idade: 20.04\n",
      "Nome: Welison, Idade: 20.04\n",
      "Nome: Welison, Idade: 20.04\n"
     ]
    }
   ],
   "source": [
    "from string import Template\n",
    "\n",
    "nome, idade = 'Welison', 20.04\n",
    "\n",
    "print('Nome: %s, Idade: %.2lf (%r)' % (nome, idade, True)) # antiga\n",
    "print('Nome: {0}, Idade: {1}'.format(nome, idade)) # python < 3.6\n",
    "print(f'Nome: {nome}, Idade: {idade}') # python > 3.7\n",
    "\n",
    "s = Template('Nome: $nome, Idade: $idade')\n",
    "print(s.substitute(nome=nome, idade=idade))"
   ]
  },
  {
   "cell_type": "markdown",
   "metadata": {},
   "source": [
    "# Métodos mágicos"
   ]
  },
  {
   "cell_type": "code",
   "execution_count": 19,
   "metadata": {},
   "outputs": [
    {
     "name": "stdout",
     "output_type": "stream",
     "text": [
      "123Teste\n",
      "123Teste\n"
     ]
    }
   ],
   "source": [
    "a = '123'\n",
    "b = 'Teste'\n",
    "\n",
    "# \"Métodos mágicos\"\n",
    "print(a.__add__(b))\n",
    "print(str.__add__(a, b))"
   ]
  },
  {
   "cell_type": "code",
   "execution_count": null,
   "metadata": {},
   "outputs": [],
   "source": []
  }
 ],
 "metadata": {
  "kernelspec": {
   "display_name": "Python 3",
   "language": "python",
   "name": "python3"
  },
  "language_info": {
   "codemirror_mode": {
    "name": "ipython",
    "version": 3
   },
   "file_extension": ".py",
   "mimetype": "text/x-python",
   "name": "python",
   "nbconvert_exporter": "python",
   "pygments_lexer": "ipython3",
   "version": "3.7.1"
  }
 },
 "nbformat": 4,
 "nbformat_minor": 2
}
