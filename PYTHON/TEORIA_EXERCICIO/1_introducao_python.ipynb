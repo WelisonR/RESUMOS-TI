{
 "cells": [
  {
   "cell_type": "markdown",
   "metadata": {},
   "source": [
    "# INTRODUÇÃO AO PYTHON\n",
    "\n",
    "![Introdução ao Python](https://i.imgur.com/EKzOp0A.jpg)"
   ]
  },
  {
   "cell_type": "markdown",
   "metadata": {},
   "source": [
    "## TIPOS BÁSICOS DE DADOS EM PYTHON\n",
    "Os tipos básicos em Python são implementados através de classes, e podem possuir métodos. Lista de tipos:\n",
    "\n",
    "| **Tipo** | **Seção**   | **Exemplos**                            |\n",
    "|----------|-------------|-----------------------------------------|\n",
    "| bool     |             | True ou False                           |\n",
    "| int      | Números     | 10                                      |\n",
    "| float    | Números     | 93.3                                    |\n",
    "| str      | Strings     | 'Joãozinho' ou \"Joãozinho\"              |\n",
    "| list     | Listas      | [1, 2, 'ab']                            |\n",
    "| dict     | Dicionários | {'nome': 'vailuquinha', 'altura': 10.4} |\n",
    "| NoneType |             | None                                    |\n",
    "\n",
    "## CONVERSÃO DE TIPOS\n",
    "A linguagem python é fortemente tipada, isto é, dá problemas ao misturar tipos: `print(2 + '2')`."
   ]
  },
  {
   "cell_type": "code",
   "execution_count": null,
   "metadata": {},
   "outputs": [],
   "source": [
    "# OPERAÇÕES EM PYTHON\n",
    "# No interpretador, o resultado de uma expressão anterior é guardado em uma variável temporária chamada \"_\" .\n",
    "# print retorna None\n",
    "\n",
    "a = 10+14\n",
    "b = 14-10\n",
    "c = 2*3\n",
    "d = 10/3\n",
    "e = 10//3\n",
    "f = 3**2\n",
    "g = 10%3\n",
    "\n",
    "h = (((a+b-c)/2) % 2)**2\n",
    "\n",
    "print(a, b, c, d, e, f, g)\n",
    "print(h)"
   ]
  },
  {
   "cell_type": "code",
   "execution_count": null,
   "metadata": {},
   "outputs": [],
   "source": [
    "# Os números inteiros podem ser representados em outras bases\n",
    "# BINÁRIO\n",
    "a = 0b111\n",
    "\n",
    "# OCTAL\n",
    "b = 0o1\n",
    "\n",
    "# HEXADECIMAL\n",
    "c = 0xff"
   ]
  },
  {
   "cell_type": "code",
   "execution_count": null,
   "metadata": {},
   "outputs": [],
   "source": [
    "# __builtins__\n",
    "# __builtins__ - módulo embutido na linguagem, importado automaticamente. É neste módulo que os dados mais básicos são definidos.\n",
    "\n",
    "# OBS: há uma convenção em Python que se refere a identificadores especiais \"__name__\" providos pelo Python\n",
    "\n",
    "# dir - membros do escopo atual\n",
    "# dir()\n",
    "dir(__builtins__)\n",
    "\n",
    "\n",
    "# help\n",
    "# help(print)"
   ]
  },
  {
   "cell_type": "code",
   "execution_count": null,
   "metadata": {},
   "outputs": [],
   "source": [
    "# type() - retorna os tipos de dados\n",
    "print(type(10/3))\n",
    "print(type(10//3))"
   ]
  },
  {
   "cell_type": "code",
   "execution_count": null,
   "metadata": {},
   "outputs": [],
   "source": [
    "# COERÇÃO DE TIPO\n",
    "a = 1\n",
    "b = 1.0\n",
    "c = '1.0'\n",
    "\n",
    "d = str(a) + c\n",
    "e = int(b) + a\n",
    "\n",
    "print(d)\n",
    "print(e)"
   ]
  },
  {
   "cell_type": "code",
   "execution_count": null,
   "metadata": {},
   "outputs": [],
   "source": [
    "# CLASSE DECIMAL\n",
    "from decimal import Decimal\n",
    "\n",
    "a = Decimal(10.00000001)\n",
    "b = Decimal(10.00000001)\n",
    "print(a, b)"
   ]
  },
  {
   "cell_type": "code",
   "execution_count": null,
   "metadata": {},
   "outputs": [],
   "source": [
    "# STRING\n",
    "# dir(str)\n",
    "\n",
    "# Igualdade\n",
    "print(\"Dias D'Avila\" == 'Dias D\\'Avila')\n",
    "\n",
    "# múltiplas linhas\n",
    "txt = \"\"\"Texto com muitas\\\n",
    "...\n",
    "linhas\"\"\"\n",
    "\n",
    "print(txt)\n",
    "\n",
    "# Exemplos de funções\n",
    "name = \"Welison Lucas\"\n",
    "print('li' in name)\n",
    "print(name[::2])\n",
    "print(name.upper())\n",
    "print(name.split())\n",
    "print(name.strip()) # Retira os espaços no início e no final"
   ]
  },
  {
   "cell_type": "markdown",
   "metadata": {},
   "source": [
    "# LISTAS\n",
    "\n",
    "As listas (list) são similares a array, não sendo tipadas, isto é, pode-se incluir qualquer tipo de dados na lista."
   ]
  },
  {
   "cell_type": "code",
   "execution_count": null,
   "metadata": {},
   "outputs": [],
   "source": [
    "# ITERAR\n",
    "# list[START:END:INCREMENT]. Se omitido, entende-se por começo, fim e 1 no incremento.\n",
    "\n",
    "user = ['Lucas', 20, 1.82]\n",
    "print(type(user))\n",
    "\n",
    "user.append('Last')\n",
    "user.insert(0, 'First')\n",
    "user.remove('First')\n",
    "del user[-1:-3:-1]\n",
    "print('Last está na lista?', 1 in user)\n",
    "\n",
    "print(user.index('Lucas'))\n",
    "print(user)\n",
    "\n",
    "# Concatenação de lista com lista\n",
    "novo_user = user + ['Last']\n",
    "print(novo_user)"
   ]
  },
  {
   "cell_type": "markdown",
   "metadata": {},
   "source": [
    "# TUPLAS\n",
    "\n",
    "As tuplas são similares as listas, porém, são imutáveis!"
   ]
  },
  {
   "cell_type": "code",
   "execution_count": null,
   "metadata": {},
   "outputs": [],
   "source": [
    "tupla = tuple()\n",
    "print(type(tupla))\n",
    "\n",
    "# Necessita da virgula para ser tupla, caso contrário será string\n",
    "tupla = ('um',)\n",
    "print(tupla.count('um'))\n",
    "print(tupla[0])"
   ]
  },
  {
   "cell_type": "markdown",
   "metadata": {},
   "source": [
    "# DICIONÁRIOS\n",
    "Um dicionário (dict) em Python é similar a um HashMap, sendo similar a uma lista de chave e valor, porém com as chaves são imutáveis."
   ]
  },
  {
   "cell_type": "code",
   "execution_count": null,
   "metadata": {},
   "outputs": [],
   "source": [
    "user = {\n",
    "    'nome': 'Welison Lucas',\n",
    "    'idade': 18,\n",
    "    'filiados': [\n",
    "        'Edinalva',\n",
    "        'Damião'\n",
    "    ]\n",
    "}\n",
    "print(type(user))\n",
    "\n",
    "user['filiados'].append('Davi')\n",
    "# user.pop('idade')\n",
    "del user['idade']\n",
    "print(user)\n",
    "\n",
    "user.update({'nome': 'vailuquinha'})\n",
    "user.update({'idade': 20})\n",
    "print(user)\n",
    "\n",
    "print(user['filiados'][0])\n",
    "print(user.keys())\n",
    "print(user.values())\n",
    "print(user.items())\n",
    "\n",
    "search_in_user = user.get('fake', 'Default')\n",
    "print(search_in_user)\n",
    "\n",
    "user.clear()"
   ]
  },
  {
   "cell_type": "code",
   "execution_count": null,
   "metadata": {},
   "outputs": [],
   "source": [
    "lista = [1, 5, 'Wally', 'Lucas', 1.71]"
   ]
  },
  {
   "cell_type": "code",
   "execution_count": null,
   "metadata": {},
   "outputs": [],
   "source": [
    "lista[::-2]"
   ]
  },
  {
   "cell_type": "code",
   "execution_count": null,
   "metadata": {},
   "outputs": [],
   "source": [
    "tupla = tuple()\n",
    "# tupla = ('um')\n",
    "tupla = ('um',)\n",
    "print(type(tupla))\n",
    "tupla[0]\n",
    "\n",
    "# não suporta modificação\n",
    "cores = ('verde', 'azul', 'branco')\n",
    "print(cores[::])"
   ]
  },
  {
   "cell_type": "code",
   "execution_count": null,
   "metadata": {},
   "outputs": [],
   "source": [
    "exemplo_dict = {\n",
    "    'nome': 'Welison Lucas',\n",
    "    'idade': 20,\n",
    "    'filiados': ['Edinalva', 'Damião']\n",
    "}\n",
    "type(exemplo_dic)\n",
    "\n",
    "print(exemplo_dict['filiados'][0])\n",
    "print(exemplo_dict.keys())\n",
    "print(exemplo_dict.values())\n",
    "print(exemplo_dict.items())\n",
    "print(exemplo_dict.get('idade', ['defaultIfNone']))"
   ]
  },
  {
   "cell_type": "code",
   "execution_count": null,
   "metadata": {},
   "outputs": [],
   "source": [
    "exemplo_dict['filiados'].append('Davi')\n",
    "exemplo_dict.pop('idade')\n",
    "print(exemplo_dict)\n",
    "\n",
    "exemplo_dict.update({'idade': 20, 'sexo': 'M'})\n",
    "del exemplo_dict['filiados']\n",
    "print(exemplo_dict)"
   ]
  },
  {
   "cell_type": "code",
   "execution_count": null,
   "metadata": {},
   "outputs": [],
   "source": [
    "class Cliente:\n",
    "    def __init__(self, nome, renda):\n",
    "        self.nome = nome\n",
    "        self.renda = renda\n",
    "\n",
    "p1 = Cliente(\"Maria\", 5678.98)\n",
    "\n",
    "print(p1.nome)\n",
    "print(p1.renda)"
   ]
  },
  {
   "cell_type": "code",
   "execution_count": null,
   "metadata": {},
   "outputs": [],
   "source": [
    "a = \"Hello, World!\".split()\n",
    "print(a)"
   ]
  },
  {
   "cell_type": "code",
   "execution_count": null,
   "metadata": {},
   "outputs": [],
   "source": [
    "for k in range(0, 4, -1):\n",
    "    print(k)\n",
    "    \n",
    "# k não converge a um fim, não imprime nada"
   ]
  },
  {
   "cell_type": "code",
   "execution_count": null,
   "metadata": {},
   "outputs": [],
   "source": [
    "f = open(\"teste.txt\", \"w\")\n",
    "f.write(\"Linha de teste\\n\")\n",
    "f.write(\"It really works, OMG!\\n\")\n",
    "f.close()"
   ]
  },
  {
   "cell_type": "code",
   "execution_count": null,
   "metadata": {},
   "outputs": [],
   "source": [
    "import this"
   ]
  },
  {
   "cell_type": "code",
   "execution_count": null,
   "metadata": {},
   "outputs": [],
   "source": [
    "class End_simples(object):\n",
    "    def __init__(self, rua, num, bai):\n",
    "        self.rua = rua\n",
    "        self.num = num\n",
    "        self.bai = bai\n",
    "\n",
    "    def Endereco(self):\n",
    "        return self.rua + \", \" + self.num + \" \" + self.bai\n",
    "    \n",
    "class End_com(End_simples):\n",
    "    def __init__(self, rua, num, bai, com):\n",
    "        End_simples.__init__(self, rua, num, bai)\n",
    "        self.com = com\n",
    "        \n",
    "    def Endereco(self):\n",
    "        # return self.parent.Endereco() + \", \" + self.com\n",
    "        return super(End_com, self).Endereco() + \", \" + self.com\n",
    "        \n",
    "a = End_simples(\"Av Brasil\", \"243\", \"Floresta\")\n",
    "\n",
    "b = End_com(\"Av Miracema\", \"12\", \"Centro\", \"apto 3\")\n",
    "\n",
    "print(a.Endereco())\n",
    "print(b.Endereco())"
   ]
  },
  {
   "cell_type": "code",
   "execution_count": null,
   "metadata": {},
   "outputs": [],
   "source": [
    "vec = [i+10 for i in range(5)]\n",
    "print(vec)"
   ]
  },
  {
   "cell_type": "code",
   "execution_count": null,
   "metadata": {},
   "outputs": [],
   "source": [
    "def bolha(lista):\n",
    "    for passo in range(len(lista)-1, 0, -1):\n",
    "        for i in range(passo):\n",
    "            if lista[i] > lista[i+1]:\n",
    "                lista[i], lista[i+1] = lista[i+1], lista[i]\n",
    "        print(lista)\n",
    "        \n",
    "bolha([4, 3, 1, 9, 8, 7, 2, 5])"
   ]
  },
  {
   "cell_type": "code",
   "execution_count": null,
   "metadata": {},
   "outputs": [],
   "source": [
    "# -*- coding: utf-8 -*-\n",
    "# Python 2\n",
    "print('Agora pode acentuar! Aêê!')"
   ]
  },
  {
   "cell_type": "code",
   "execution_count": null,
   "metadata": {},
   "outputs": [],
   "source": [
    "import math\n",
    "\n",
    "# indica se é o módulo principal\n",
    "if __name__ == '__main__':\n",
    "    print('Nome do módulo', __name__)"
   ]
  },
  {
   "cell_type": "code",
   "execution_count": null,
   "metadata": {},
   "outputs": [],
   "source": []
  }
 ],
 "metadata": {
  "kernelspec": {
   "display_name": "Python 3",
   "language": "python",
   "name": "python3"
  },
  "language_info": {
   "codemirror_mode": {
    "name": "ipython",
    "version": 3
   },
   "file_extension": ".py",
   "mimetype": "text/x-python",
   "name": "python",
   "nbconvert_exporter": "python",
   "pygments_lexer": "ipython3",
   "version": "3.7.1"
  }
 },
 "nbformat": 4,
 "nbformat_minor": 2
}
