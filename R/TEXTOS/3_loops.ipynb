{
 "cells": [
  {
   "cell_type": "markdown",
   "metadata": {},
   "source": [
    "# LOOPS EM R\n",
    "\n",
    "* Em R, tem-se os seguintes tipos de loops:\n",
    "    * repeat: executa um bloco até uma condição ser satisfeita. Simplifica a notação, embora use break.\n",
    "    * while: executa um bloco até uma condição ser satisfeita.\n",
    "    * for: itera sobre os elementos de um vetor.\n",
    "* Controles de loop:\n",
    "    * break.\n",
    "    * next. (equivalente ao continue)"
   ]
  },
  {
   "cell_type": "code",
   "execution_count": 2,
   "metadata": {},
   "outputs": [
    {
     "name": "stdout",
     "output_type": "stream",
     "text": [
      "[1] \"hello\" \"loop\" \n",
      "[1] \"hello\" \"loop\" \n",
      "[1] \"hello\" \"loop\" \n",
      "[1] \"hello\" \"loop\" \n",
      "[1] \"hello\" \"loop\" \n"
     ]
    }
   ],
   "source": [
    "v <- c(\"hello\", \"loop\")\n",
    "\n",
    "cnt <- 1\n",
    "repeat {\n",
    "    print(v)\n",
    "    cnt <- cnt+1\n",
    "    \n",
    "    if (cnt > 5) {\n",
    "        break\n",
    "    }\n",
    "}"
   ]
  },
  {
   "cell_type": "code",
   "execution_count": 4,
   "metadata": {},
   "outputs": [
    {
     "name": "stdout",
     "output_type": "stream",
     "text": [
      "[1] \"hello\" \"world\"\n",
      "[1] \"hello\" \"world\"\n",
      "[1] \"hello\" \"world\"\n",
      "[1] \"hello\" \"world\"\n",
      "[1] \"hello\" \"world\"\n"
     ]
    }
   ],
   "source": [
    "v <- c(\"hello\", \"world\")\n",
    "\n",
    "cnt <- 1\n",
    "while (cnt <= 5) {\n",
    "    print(v)\n",
    "    cnt = cnt+1\n",
    "}"
   ]
  },
  {
   "cell_type": "code",
   "execution_count": 5,
   "metadata": {},
   "outputs": [
    {
     "name": "stdout",
     "output_type": "stream",
     "text": [
      "[1] \"A\"\n",
      "[1] \"B\"\n",
      "[1] \"C\"\n",
      "[1] \"D\"\n"
     ]
    }
   ],
   "source": [
    "v <- LETTERS[1:4]\n",
    "for (i in v) {\n",
    "    print(i)\n",
    "}"
   ]
  },
  {
   "cell_type": "code",
   "execution_count": 7,
   "metadata": {},
   "outputs": [
    {
     "name": "stdout",
     "output_type": "stream",
     "text": [
      "[1] \"A\"\n",
      "[1] \"B\"\n",
      "[1] \"C\"\n",
      "[1] \"E\"\n"
     ]
    }
   ],
   "source": [
    "v <- LETTERS[1:5]\n",
    "for(i in v) {\n",
    "    if (i == 'D') {\n",
    "        next\n",
    "    }\n",
    "    print(i)\n",
    "}"
   ]
  }
 ],
 "metadata": {
  "kernelspec": {
   "display_name": "R",
   "language": "R",
   "name": "ir"
  },
  "language_info": {
   "codemirror_mode": "r",
   "file_extension": ".r",
   "mimetype": "text/x-r-source",
   "name": "R",
   "pygments_lexer": "r",
   "version": "3.5.2"
  }
 },
 "nbformat": 4,
 "nbformat_minor": 2
}
