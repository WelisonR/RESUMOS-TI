{
 "cells": [
  {
   "cell_type": "markdown",
   "metadata": {},
   "source": [
    "# STRINGS EM R\n",
    "\n",
    "* As strings podem estar tanto entre aspas simples ou aspas duplas.\n",
    "* `paste(..., sep = \" \", collapse = NULL)`\n",
    "    * collapse: junta duas strings.\n",
    "* `format(x, digits, nsmall, scientific, width, justify = c(\"left\", \"right\", \"centre\", \"none\"))`\n",
    "    * x: vector; digits: total de dígitos; nsmall: digitos a direita do decimal; scientific; width: inserção de espaço em branco no início, conforme tamanho; justifify.\n",
    "    "
   ]
  },
  {
   "cell_type": "code",
   "execution_count": 13,
   "metadata": {},
   "outputs": [
    {
     "name": "stdout",
     "output_type": "stream",
     "text": [
      "[1] \"hello world!\"\n",
      "[1] \"hello-world!\"\n",
      "[1] \"ab\"\n"
     ]
    }
   ],
   "source": [
    "a <- 'hello'\n",
    "b <- \"world!\"\n",
    "\n",
    "print(paste(a, b))\n",
    "print(paste(a, b, sep='-'))\n",
    "print(paste(c('a', 'b'), collapse=''))"
   ]
  },
  {
   "cell_type": "code",
   "execution_count": 15,
   "metadata": {},
   "outputs": [
    {
     "name": "stdout",
     "output_type": "stream",
     "text": [
      "[1] \"23.1234568\"\n",
      "[1] \"6.000000e+00\" \"1.314521e+01\"\n",
      "[1] \"23.47000\"\n",
      "[1] \"6\"\n",
      "[1] \"  13.7\"\n",
      "[1] \"Hello   \"\n",
      "[1] \" Hello  \"\n"
     ]
    }
   ],
   "source": [
    "result <- format(23.123456789, digits = 9)\n",
    "print(result)\n",
    "\n",
    "result <- format(c(6, 13.14521), scientific = TRUE)\n",
    "print(result)\n",
    "\n",
    "result <- format(23.47, nsmall = 5)\n",
    "print(result)\n",
    "\n",
    "# format trata tudo como string\n",
    "result <- format(6)\n",
    "print(result)\n",
    "\n",
    "result <- format(13.7, width = 6)\n",
    "print(result)\n",
    "\n",
    "result <- format(\"Hello\", width = 8, justify = \"l\")\n",
    "print(result)\n",
    "\n",
    "result <- format(\"Hello\", width = 8, justify = \"c\")\n",
    "print(result)"
   ]
  },
  {
   "cell_type": "code",
   "execution_count": 20,
   "metadata": {},
   "outputs": [
    {
     "name": "stdout",
     "output_type": "stream",
     "text": [
      "[1] 16\n",
      "[1] \"THAT'S MY STRING\"\n",
      "[1] \"that's my string\"\n",
      "[1] \"that's\"\n"
     ]
    }
   ],
   "source": [
    "# Algumas funções\n",
    "str1 <- \"that's my string\"\n",
    "\n",
    "print(nchar(str1))\n",
    "print(toupper(str1))\n",
    "print(tolower(str1))\n",
    "\n",
    "# Substrings\n",
    "str2 <- substring(str1, 1, 6)\n",
    "print(str2)"
   ]
  },
  {
   "cell_type": "code",
   "execution_count": null,
   "metadata": {},
   "outputs": [],
   "source": []
  }
 ],
 "metadata": {
  "kernelspec": {
   "display_name": "R",
   "language": "R",
   "name": "ir"
  },
  "language_info": {
   "codemirror_mode": "r",
   "file_extension": ".r",
   "mimetype": "text/x-r-source",
   "name": "R",
   "pygments_lexer": "r",
   "version": "3.5.2"
  }
 },
 "nbformat": 4,
 "nbformat_minor": 2
}
