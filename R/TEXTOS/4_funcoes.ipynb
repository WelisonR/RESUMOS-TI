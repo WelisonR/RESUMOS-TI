{
 "cells": [
  {
   "cell_type": "markdown",
   "metadata": {},
   "source": [
    "# FUNÇÕES EM R\n",
    "\n",
    "* A linguagem R possui muitas funções **built-in**.\n",
    "* Lazy evaluation:\n",
    "    * Os argumentos são avaliados somente quando solicitados no corpo da função,\n",
    "        * Isto é, se houver um `print(b)` e não passar o `b`, a função só apresentará erro quando chegar na linha de código."
   ]
  },
  {
   "cell_type": "code",
   "execution_count": 8,
   "metadata": {},
   "outputs": [
    {
     "name": "stdout",
     "output_type": "stream",
     "text": [
      " [1]  1  2  3  4  5  6  7  8  9 10\n",
      "[1] 5\n",
      "[1] 55\n"
     ]
    }
   ],
   "source": [
    "# Creating a sequence\n",
    "print(seq(1, 10))\n",
    "print(mean(1:9))\n",
    "print(sum(1:10))"
   ]
  },
  {
   "cell_type": "code",
   "execution_count": 10,
   "metadata": {},
   "outputs": [
    {
     "name": "stdout",
     "output_type": "stream",
     "text": [
      "[1] 1\n",
      "[1] 4\n",
      "[1] 9\n",
      "[1] 16\n",
      "[1] 25\n"
     ]
    }
   ],
   "source": [
    "# Quadrados de 1 a n\n",
    "square <- function(n) {\n",
    "    for (i in 1:n) {\n",
    "        b = i^2\n",
    "        print(b)\n",
    "    }\n",
    "}\n",
    "\n",
    "square(5)"
   ]
  },
  {
   "cell_type": "code",
   "execution_count": 11,
   "metadata": {},
   "outputs": [
    {
     "name": "stdout",
     "output_type": "stream",
     "text": [
      "[1] 5\n",
      "[1] 17\n"
     ]
    }
   ],
   "source": [
    "compute <- function(a, b, c) {\n",
    "    result = a*b+c\n",
    "    print(result)\n",
    "}\n",
    "\n",
    "# Chamada por posição\n",
    "compute(1, 2, 3)\n",
    "\n",
    "# Chamada por nome\n",
    "compute(b = 4, a = 3, c = 5)"
   ]
  },
  {
   "cell_type": "code",
   "execution_count": 17,
   "metadata": {},
   "outputs": [
    {
     "name": "stdout",
     "output_type": "stream",
     "text": [
      "[1] 0\n"
     ]
    }
   ],
   "source": [
    "# Função com argumentos padrões e retorno\n",
    "compute = function(a = 0, b = 1) {\n",
    "    result = a * b\n",
    "    \n",
    "    return(result)\n",
    "}\n",
    "\n",
    "a <- compute()\n",
    "print(a)"
   ]
  },
  {
   "cell_type": "code",
   "execution_count": null,
   "metadata": {},
   "outputs": [],
   "source": []
  }
 ],
 "metadata": {
  "kernelspec": {
   "display_name": "R",
   "language": "R",
   "name": "ir"
  },
  "language_info": {
   "codemirror_mode": "r",
   "file_extension": ".r",
   "mimetype": "text/x-r-source",
   "name": "R",
   "pygments_lexer": "r",
   "version": "3.5.2"
  }
 },
 "nbformat": 4,
 "nbformat_minor": 2
}
