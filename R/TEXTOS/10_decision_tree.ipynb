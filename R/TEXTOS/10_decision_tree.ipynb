{
 "cells": [
  {
   "cell_type": "markdown",
   "metadata": {},
   "source": [
    "# DECISION TREE\n",
    "* A árvore de decisão é um grafo para representar escolhas e resultados em forma de árvore.\n",
    "* Pacote: `party`.\n",
    "* `ctree(formula, data)`."
   ]
  },
  {
   "cell_type": "code",
   "execution_count": 3,
   "metadata": {},
   "outputs": [
    {
     "data": {
      "text/html": [
       "<strong>png:</strong> 2"
      ],
      "text/latex": [
       "\\textbf{png:} 2"
      ],
      "text/markdown": [
       "**png:** 2"
      ],
      "text/plain": [
       "png \n",
       "  2 "
      ]
     },
     "metadata": {},
     "output_type": "display_data"
    }
   ],
   "source": [
    "library(party)\n",
    "\n",
    "# Amostra de dados. readingSkills é um data set do próprio R.\n",
    "input.dat <- readingSkills[c(1:105),]\n",
    "\n",
    "# Nome do arquivo da árvore\n",
    "png(file = \"../DADOS/decision_tree.png\")\n",
    "\n",
    "# Cria a árvore\n",
    "  output.tree <- ctree(\n",
    "  nativeSpeaker ~ age + shoeSize + score, \n",
    "  data = input.dat)\n",
    "\n",
    "# Apresenta o resultado\n",
    "plot(output.tree)\n",
    "\n",
    "# Salva o arquivo\n",
    "dev.off()"
   ]
  },
  {
   "cell_type": "code",
   "execution_count": null,
   "metadata": {},
   "outputs": [],
   "source": []
  }
 ],
 "metadata": {
  "kernelspec": {
   "display_name": "R",
   "language": "R",
   "name": "ir"
  },
  "language_info": {
   "codemirror_mode": "r",
   "file_extension": ".r",
   "mimetype": "text/x-r-source",
   "name": "R",
   "pygments_lexer": "r",
   "version": "3.5.2"
  }
 },
 "nbformat": 4,
 "nbformat_minor": 2
}
