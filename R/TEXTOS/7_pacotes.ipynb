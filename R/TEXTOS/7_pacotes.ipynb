{
 "cells": [
  {
   "cell_type": "markdown",
   "metadata": {},
   "source": [
    "# PACOTES EM R\n",
    "\n",
    "* Coleção de funções do R, compilado de códigos e exemplos de dados.\n",
    "* No R, apenas os pacotes padrões estão disponíveis. Pacotes instalados precisam ser carregados explicitamente.\n",
    "* Instalar pacotes: `install.packages(file_name)`. (`sudo R`)"
   ]
  },
  {
   "cell_type": "code",
   "execution_count": 10,
   "metadata": {},
   "outputs": [
    {
     "name": "stdout",
     "output_type": "stream",
     "text": [
      "[1] \"/usr/local/lib/R/site-library\" \"/usr/lib/R/site-library\"      \n",
      "[3] \"/usr/lib/R/library\"           \n"
     ]
    },
    {
     "name": "stderr",
     "output_type": "stream",
     "text": [
      "Warning message in library():\n",
      "“library ‘/usr/lib/R/site-library’ contains no packages”"
     ]
    },
    {
     "name": "stdout",
     "output_type": "stream",
     "text": [
      " [1] \".GlobalEnv\"        \"package:Rcmdr\"     \"package:effects\"  \n",
      " [4] \"package:RcmdrMisc\" \"package:sandwich\"  \"package:car\"      \n",
      " [7] \"package:carData\"   \"package:splines\"   \"jupyter:irkernel\" \n",
      "[10] \"package:stats\"     \"package:graphics\"  \"package:grDevices\"\n",
      "[13] \"package:utils\"     \"package:datasets\"  \"package:methods\"  \n",
      "[16] \"Autoloads\"         \"package:base\"     \n"
     ]
    }
   ],
   "source": [
    "# Pasta contendo a localização dos pacotes\n",
    "print(.libPaths())\n",
    "# Lista de todos os pacotes no sistema\n",
    "print(library()) # executar no console\n",
    "# Pacotes carregados no ambiente\n",
    "print(search())"
   ]
  },
  {
   "cell_type": "code",
   "execution_count": 9,
   "metadata": {},
   "outputs": [
    {
     "name": "stderr",
     "output_type": "stream",
     "text": [
      "Loading required package: splines\n",
      "Loading required package: RcmdrMisc\n",
      "Loading required package: car\n",
      "Loading required package: carData\n",
      "Loading required package: sandwich\n",
      "Loading required package: effects\n",
      "lattice theme set by effectsTheme()\n",
      "See ?effectsTheme for details.\n",
      "A interface gráfica do Rcmdr só é lançada no modo interativo\n",
      "\n",
      "Attaching package: ‘Rcmdr’\n",
      "\n",
      "The following object is masked from ‘package:car’:\n",
      "\n",
      "    Confint\n",
      "\n"
     ]
    }
   ],
   "source": [
    "# Carregando uma biblioteca interessante!\n",
    "library(Rcmdr)"
   ]
  },
  {
   "cell_type": "code",
   "execution_count": null,
   "metadata": {},
   "outputs": [],
   "source": []
  }
 ],
 "metadata": {
  "kernelspec": {
   "display_name": "R",
   "language": "R",
   "name": "ir"
  },
  "language_info": {
   "codemirror_mode": "r",
   "file_extension": ".r",
   "mimetype": "text/x-r-source",
   "name": "R",
   "pygments_lexer": "r",
   "version": "3.5.2"
  }
 },
 "nbformat": 4,
 "nbformat_minor": 2
}
