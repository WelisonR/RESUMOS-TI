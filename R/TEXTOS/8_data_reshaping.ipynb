{
 "cells": [
  {
   "cell_type": "markdown",
   "metadata": {},
   "source": [
    "# Data reshaping (redimensionamento de dados)\n",
    "* Pode-se utilizar `cbind()` para juntar diversos `vectors` e formar um data frame.\n",
    "* É possível juntar dois data frames com `rbind()`.\n",
    "    * Deve-se ter os mesmos nomes de coluna."
   ]
  },
  {
   "cell_type": "markdown",
   "metadata": {},
   "source": [
    "## cbind() e rbind()"
   ]
  },
  {
   "cell_type": "code",
   "execution_count": 3,
   "metadata": {},
   "outputs": [
    {
     "name": "stdout",
     "output_type": "stream",
     "text": [
      "# # # # The First data frame\n",
      "     city       state zipcode\n",
      "[1,] \"Tampa\"    \"FL\"  \"33602\"\n",
      "[2,] \"Seattle\"  \"WA\"  \"98104\"\n",
      "[3,] \"Hartford\" \"CT\"  \"6161\" \n",
      "[4,] \"Denver\"   \"CO\"  \"80294\"\n",
      "# # # The Second data frame\n",
      "       city state zipcode\n",
      "1     Lowry    CO   80230\n",
      "2 Charlotte    FL   33949\n",
      "# # # The combined data frame\n",
      "       city state zipcode\n",
      "1     Tampa    FL   33602\n",
      "2   Seattle    WA   98104\n",
      "3  Hartford    CT    6161\n",
      "4    Denver    CO   80294\n",
      "5     Lowry    CO   80230\n",
      "6 Charlotte    FL   33949\n"
     ]
    }
   ],
   "source": [
    "city <- c(\"Tampa\",\"Seattle\",\"Hartford\",\"Denver\")\n",
    "state <- c(\"FL\",\"WA\",\"CT\",\"CO\")\n",
    "zipcode <- c(33602,98104,06161,80294)\n",
    "\n",
    "# CRIA UM DATA FRAME COM cbind\n",
    "addresses <- cbind(city,state,zipcode)\n",
    "\n",
    "cat(\"# # # # The First data frame\\n\") \n",
    "print(addresses)\n",
    "\n",
    "new.address <- data.frame(\n",
    "   city = c(\"Lowry\",\"Charlotte\"),\n",
    "   state = c(\"CO\",\"FL\"),\n",
    "   zipcode = c(\"80230\",\"33949\"),\n",
    "   stringsAsFactors = FALSE\n",
    ")\n",
    "\n",
    "cat(\"# # # The Second data frame\\n\") \n",
    "print(new.address)\n",
    "\n",
    "# JUNTA AMBOS OS DATA FRAMES\n",
    "all.addresses <- rbind(addresses,new.address)\n",
    "\n",
    "cat(\"# # # The combined data frame\\n\") \n",
    "print(all.addresses)"
   ]
  },
  {
   "cell_type": "markdown",
   "metadata": {},
   "source": [
    "## Juntando data frames"
   ]
  },
  {
   "cell_type": "code",
   "execution_count": 4,
   "metadata": {},
   "outputs": [
    {
     "name": "stdout",
     "output_type": "stream",
     "text": [
      "   bp  bmi npreg.x glu.x skin.x ped.x age.x type.x npreg.y glu.y skin.y ped.y\n",
      "1  60 33.8       1   117     23 0.466    27     No       2   125     20 0.088\n",
      "2  64 29.7       2    75     24 0.370    33     No       2   100     23 0.368\n",
      "3  64 31.2       5   189     33 0.583    29    Yes       3   158     13 0.295\n",
      "4  64 33.2       4   117     27 0.230    24     No       1    96     27 0.289\n",
      "5  66 38.1       3   115     39 0.150    28     No       1   114     36 0.289\n",
      "6  68 38.5       2   100     25 0.324    26     No       7   129     49 0.439\n",
      "7  70 27.4       1   116     28 0.204    21     No       0   124     20 0.254\n",
      "8  70 33.1       4    91     32 0.446    22     No       9   123     44 0.374\n",
      "9  70 35.4       9   124     33 0.282    34     No       6   134     23 0.542\n",
      "10 72 25.6       1   157     21 0.123    24     No       4    99     17 0.294\n",
      "11 72 37.7       5    95     33 0.370    27     No       6   103     32 0.324\n",
      "12 74 25.9       9   134     33 0.460    81     No       8   126     38 0.162\n",
      "13 74 25.9       1    95     21 0.673    36     No       8   126     38 0.162\n",
      "14 78 27.6       5    88     30 0.258    37     No       6   125     31 0.565\n",
      "15 78 27.6      10   122     31 0.512    45     No       6   125     31 0.565\n",
      "16 78 39.4       2   112     50 0.175    24     No       4   112     40 0.236\n",
      "17 88 34.5       1   117     24 0.403    40    Yes       4   127     11 0.598\n",
      "   age.y type.y\n",
      "1     31     No\n",
      "2     21     No\n",
      "3     24     No\n",
      "4     21     No\n",
      "5     21     No\n",
      "6     43    Yes\n",
      "7     36    Yes\n",
      "8     40     No\n",
      "9     29    Yes\n",
      "10    28     No\n",
      "11    55     No\n",
      "12    39     No\n",
      "13    39     No\n",
      "14    49    Yes\n",
      "15    49    Yes\n",
      "16    38     No\n",
      "17    28     No\n"
     ]
    },
    {
     "data": {
      "text/html": [
       "17"
      ],
      "text/latex": [
       "17"
      ],
      "text/markdown": [
       "17"
      ],
      "text/plain": [
       "[1] 17"
      ]
     },
     "metadata": {},
     "output_type": "display_data"
    }
   ],
   "source": [
    "# Dados sobre diabetes em Pina, disponível na biblioteca MASS\n",
    "library(MASS)\n",
    "\n",
    "# Se houver match em ambas as colunas dos data sets, merge data frames\n",
    "# Pima.te e Pima.tr são dados de MASS\n",
    "merged.Pima <- merge(x = Pima.te, y = Pima.tr,\n",
    "   by.x = c(\"bp\", \"bmi\"),\n",
    "   by.y = c(\"bp\", \"bmi\")\n",
    ")\n",
    "print(merged.Pima)\n",
    "nrow(merged.Pima)"
   ]
  },
  {
   "cell_type": "markdown",
   "metadata": {},
   "source": [
    "## melt() e cast()\n",
    "* melt(): transforma as colunas. Mantém unicidade.\n",
    "* cast(): ..."
   ]
  },
  {
   "cell_type": "code",
   "execution_count": 24,
   "metadata": {},
   "outputs": [
    {
     "name": "stdout",
     "output_type": "stream",
     "text": [
      "  id time x1 x2\n",
      "1  1    1  5  6\n",
      "2  1    2  3  5\n",
      "3  2    1  6  1\n",
      "4  2    2  2  4\n",
      "  id time variable value\n",
      "1  1    1       x1     5\n",
      "2  1    2       x1     3\n",
      "3  2    1       x1     6\n",
      "4  2    2       x1     2\n",
      "5  1    1       x2     6\n",
      "6  1    2       x2     5\n",
      "7  2    1       x2     1\n",
      "8  2    2       x2     4\n"
     ]
    }
   ],
   "source": [
    "mydata <- data.frame(\n",
    "    id = c(1, 1, 2, 2),\n",
    "    time = c(1, 2, 1, 2),\n",
    "    x1 = c(5, 3, 6, 2),\n",
    "    x2 = c(6, 5, 1, 4)\n",
    ")\n",
    "print(mydata)\n",
    "\n",
    "library(reshape)\n",
    "mdata <- melt(mydata, id=c(\"id\", \"time\"))\n",
    "print(mdata)"
   ]
  },
  {
   "cell_type": "code",
   "execution_count": 28,
   "metadata": {},
   "outputs": [
    {
     "name": "stdout",
     "output_type": "stream",
     "text": [
      "   type year period service incidents\n",
      "1     A   60     60     127         0\n",
      "2     A   60     75      63         0\n",
      "3     A   65     60    1095         3\n",
      "4     A   65     75    1095         4\n",
      "5     A   70     60    1512         6\n",
      "6     A   70     75    3353        18\n",
      "7     A   75     60       0         0\n",
      "8     A   75     75    2244        11\n",
      "9     B   60     60   44882        39\n",
      "10    B   60     75   17176        29\n",
      "11    B   65     60   28609        58\n",
      "12    B   65     75   20370        53\n",
      "13    B   70     60    7064        12\n",
      "14    B   70     75   13099        44\n",
      "15    B   75     60       0         0\n",
      "16    B   75     75    7117        18\n",
      "17    C   60     60    1179         1\n",
      "18    C   60     75     552         1\n",
      "19    C   65     60     781         0\n",
      "20    C   65     75     676         1\n",
      "21    C   70     60     783         6\n",
      "22    C   70     75    1948         2\n",
      "23    C   75     60       0         0\n",
      "24    C   75     75     274         1\n",
      "25    D   60     60     251         0\n",
      "26    D   60     75     105         0\n",
      "27    D   65     60     288         0\n",
      "28    D   65     75     192         0\n",
      "29    D   70     60     349         2\n",
      "30    D   70     75    1208        11\n",
      "31    D   75     60       0         0\n",
      "32    D   75     75    2051         4\n",
      "33    E   60     60      45         0\n",
      "34    E   60     75       0         0\n",
      "35    E   65     60     789         7\n",
      "36    E   65     75     437         7\n",
      "37    E   70     60    1157         5\n",
      "38    E   70     75    2161        12\n",
      "39    E   75     60       0         0\n",
      "40    E   75     75     542         1\n",
      "   type year period service incidents\n",
      "1     A   60    135     190         0\n",
      "2     A   65    135    2190         7\n",
      "3     A   70    135    4865        24\n",
      "4     A   75    135    2244        11\n",
      "5     B   60    135   62058        68\n",
      "6     B   65    135   48979       111\n",
      "7     B   70    135   20163        56\n",
      "8     B   75    135    7117        18\n",
      "9     C   60    135    1731         2\n",
      "10    C   65    135    1457         1\n",
      "11    C   70    135    2731         8\n",
      "12    C   75    135     274         1\n",
      "13    D   60    135     356         0\n",
      "14    D   65    135     480         0\n",
      "15    D   70    135    1557        13\n",
      "16    D   75    135    2051         4\n",
      "17    E   60    135      45         0\n",
      "18    E   65    135    1226        14\n",
      "19    E   70    135    3318        17\n",
      "20    E   75    135     542         1\n"
     ]
    }
   ],
   "source": [
    "library(MASS)\n",
    "print(ships)\n",
    "\n",
    "molten.ships <- melt(ships, id = c(\"type\",\"year\"))\n",
    "# type+year (columns) ~ variable (rows), sum = function\n",
    "recasted.ship <- cast(molten.ships, type+year~variable, sum)\n",
    "print(recasted.ship)"
   ]
  },
  {
   "cell_type": "code",
   "execution_count": null,
   "metadata": {},
   "outputs": [],
   "source": []
  }
 ],
 "metadata": {
  "kernelspec": {
   "display_name": "R",
   "language": "R",
   "name": "ir"
  },
  "language_info": {
   "codemirror_mode": "r",
   "file_extension": ".r",
   "mimetype": "text/x-r-source",
   "name": "R",
   "pygments_lexer": "r",
   "version": "3.5.2"
  }
 },
 "nbformat": 4,
 "nbformat_minor": 2
}
