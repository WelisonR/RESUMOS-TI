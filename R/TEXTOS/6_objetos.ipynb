{
 "cells": [
  {
   "cell_type": "markdown",
   "metadata": {},
   "source": [
    "# OBJETOS EM R"
   ]
  },
  {
   "cell_type": "markdown",
   "metadata": {},
   "source": [
    "# VECTORS\n",
    "* Formato mais básico de objeto em R.\n",
    "* São `logical`, `integer`, `double`, `complex`, `character` e `raw`.\n",
    "* Índices variam de [1, n]. Índices negativos excluem os elementos do vector.\n",
    "* Reciclagem de elementos: caso aplicado uma operação em vectors com tamanhos distintos, ocorre o seguinte:\n",
    "```R\n",
    "v1 <- c(3,8,4,5,0,11)\n",
    "v2 <- c(4,11)\n",
    "# V2 becomes c(4,11,4,11,4,11)\n",
    "```"
   ]
  },
  {
   "cell_type": "markdown",
   "metadata": {},
   "source": [
    "## Tipos de vectors"
   ]
  },
  {
   "cell_type": "code",
   "execution_count": 1,
   "metadata": {},
   "outputs": [
    {
     "name": "stdout",
     "output_type": "stream",
     "text": [
      "[1] \"abc\"\n",
      "[1] 12.5\n",
      "[1] 63\n",
      "[1] TRUE\n",
      "[1] 2+3i\n",
      "[1] 68 65 6c 6c 6f\n"
     ]
    }
   ],
   "source": [
    "print(\"abc\");\n",
    "print(12.5)\n",
    "print(63L) # double\n",
    "print(TRUE)\n",
    "print(2+3i)\n",
    "print(charToRaw('hello'))"
   ]
  },
  {
   "cell_type": "markdown",
   "metadata": {},
   "source": [
    "## Criando vectors"
   ]
  },
  {
   "cell_type": "code",
   "execution_count": 6,
   "metadata": {},
   "outputs": [
    {
     "name": "stdout",
     "output_type": "stream",
     "text": [
      "[1]  3.8  4.8  5.8  6.8  7.8  8.8  9.8 10.8\n",
      " [1] 1.0 1.5 2.0 2.5 3.0 3.5 4.0 4.5 5.0 5.5 6.0 6.5 7.0 7.5 8.0 8.5 9.0\n",
      "[1] \"apple\" \"red\"   \"5\"     \"TRUE\" \n"
     ]
    }
   ],
   "source": [
    "# Criando uma sequência\n",
    "v <- 3.8:11.4 # 11,4 não pertence a sequência\n",
    "print(v)\n",
    "\n",
    "# Operador seq()\n",
    "print(seq(1, 9, by=0.5))\n",
    "\n",
    "# c(): se um dos valores é caracter, todos serão do tipo caracter\n",
    "s <- c('apple', 'red', 5, TRUE)\n",
    "print(s)"
   ]
  },
  {
   "cell_type": "markdown",
   "metadata": {},
   "source": [
    "## Acessando vectors"
   ]
  },
  {
   "cell_type": "code",
   "execution_count": 10,
   "metadata": {},
   "outputs": [
    {
     "name": "stdout",
     "output_type": "stream",
     "text": [
      "[1] \"ter\" \"qua\" \"dom\"\n",
      "[1] \"qua\" \"qui\" \"sex\" \"sab\" \"dom\"\n"
     ]
    }
   ],
   "source": [
    "# Acessando elementos\n",
    "t <- c(\"seg\", \"ter\", \"qua\", \"qui\", \"sex\", \"sab\", \"dom\")\n",
    "u <- t[c(2, 3, 7)]\n",
    "print(u)\n",
    "\n",
    "# É possível utilizar um booleano para acessar as posições\n",
    "\n",
    "# Retirando elementos\n",
    "x <- t[c(-1,-2)]\n",
    "print(x)"
   ]
  },
  {
   "cell_type": "markdown",
   "metadata": {},
   "source": [
    "## Manipulando vectors"
   ]
  },
  {
   "cell_type": "code",
   "execution_count": 12,
   "metadata": {},
   "outputs": [
    {
     "name": "stdout",
     "output_type": "stream",
     "text": [
      "[1]  7 19  4 13  1 13\n",
      "[1] -1 -3  4 -3 -1  9\n",
      "[1] 12 88  0 40  0 22\n",
      "[1] 0.7500000 0.7272727       Inf 0.6250000 0.0000000 5.5000000\n"
     ]
    }
   ],
   "source": [
    "v1 <- c(3,8,4,5,0,11)\n",
    "v2 <- c(4,11,0,8,1,2)\n",
    "\n",
    "add.result <- v1+v2\n",
    "print(add.result)\n",
    "\n",
    "sub.result <- v1-v2\n",
    "print(sub.result)\n",
    "\n",
    "multi.result <- v1*v2\n",
    "print(multi.result)\n",
    "\n",
    "divi.result <- v1/v2\n",
    "print(divi.result)"
   ]
  },
  {
   "cell_type": "markdown",
   "metadata": {},
   "source": [
    "## Reciclagem de elementos"
   ]
  },
  {
   "cell_type": "code",
   "execution_count": 13,
   "metadata": {},
   "outputs": [
    {
     "name": "stdout",
     "output_type": "stream",
     "text": [
      "[1]  7 19  8 16  4 22\n",
      "[1] -1 -3  0 -6 -4  0\n"
     ]
    }
   ],
   "source": [
    "v1 <- c(3,8,4,5,0,11)\n",
    "v2 <- c(4,11)\n",
    "# v2 se torna c(4,11,4,11,4,11)\n",
    "\n",
    "add.result <- v1+v2\n",
    "print(add.result)\n",
    "\n",
    "sub.result <- v1-v2\n",
    "print(sub.result)"
   ]
  },
  {
   "cell_type": "markdown",
   "metadata": {},
   "source": [
    "# Funções úteis"
   ]
  },
  {
   "cell_type": "code",
   "execution_count": 18,
   "metadata": {},
   "outputs": [
    {
     "name": "stdout",
     "output_type": "stream",
     "text": [
      "[1]  1  2  4  9 16\n",
      "[1] 16  9  4  2  1\n",
      "[1] \"Blue\"   \"Orange\" \"Red\"   \n"
     ]
    }
   ],
   "source": [
    "v <- c(1, 9, 2, 4, 16)\n",
    "sortit <- sort(v)\n",
    "print(sortit)\n",
    "\n",
    "revsortit <- sort(v, decreasing = TRUE)\n",
    "print(revsortit)\n",
    "\n",
    "str1 <- c(\"Red\", \"Blue\", \"Orange\")\n",
    "ssort <- sort(str1)\n",
    "print(ssort)"
   ]
  },
  {
   "cell_type": "markdown",
   "metadata": {},
   "source": [
    "# LISTS\n",
    "* Contém elementos de diferentes tipos.\n",
    "    * Vetores, listas, strings e outras listas dentro.\n",
    "* Criada com `list()`.\n",
    "* É possível dá um nome aos elementos da lista.\n",
    "* Para acessar os índices pode-se utilizar `[]` ou `[[]]`.\n",
    "    * `[[]]`: retorna o tipo do elemento, não o tipo `list`.\n",
    "* Se acessar um elemento indevido, retorna `null`."
   ]
  },
  {
   "cell_type": "markdown",
   "metadata": {},
   "source": [
    "## Criando e nomeando listas"
   ]
  },
  {
   "cell_type": "code",
   "execution_count": 27,
   "metadata": {},
   "outputs": [
    {
     "name": "stdout",
     "output_type": "stream",
     "text": [
      "[[1]]\n",
      "[1] \"Red\"\n",
      "\n",
      "[[2]]\n",
      "[1] 12\n",
      "\n",
      "[[3]]\n",
      "[1] TRUE\n",
      "\n",
      "[[4]]\n",
      "[1] 53.12\n",
      "\n",
      "$Meses\n",
      "[1] \"Jan\" \"Feb\" \"Mar\"\n",
      "\n",
      "$Matrix\n",
      "     [,1] [,2] [,3]\n",
      "[1,]    3    5   -2\n",
      "[2,]    9    1    8\n",
      "\n",
      "$Cores\n",
      "$Cores[[1]]\n",
      "[1] \"green\"\n",
      "\n",
      "$Cores[[2]]\n",
      "[1] 12.3\n",
      "\n",
      "\n",
      "     [,1] [,2] [,3]\n",
      "[1,]    3    5   -2\n",
      "[2,]    9    1    8\n"
     ]
    }
   ],
   "source": [
    "list_data <- list(\"Red\", 12, TRUE, 53.12)\n",
    "print(list_data)\n",
    "\n",
    "list_data <- list(c('Jan', 'Feb', 'Mar'), matrix(c(3, 9, 5, 1, -2, 8), nrow=2), list('green', 12.3))\n",
    "names(list_data) <- c('Meses', 'Matrix', 'Cores')\n",
    "print(list_data)\n"
   ]
  },
  {
   "cell_type": "markdown",
   "metadata": {},
   "source": [
    "## Acessando elementos da lista"
   ]
  },
  {
   "cell_type": "code",
   "execution_count": 36,
   "metadata": {},
   "outputs": [
    {
     "name": "stdout",
     "output_type": "stream",
     "text": [
      "$Matrix\n",
      "     [,1] [,2] [,3]\n",
      "[1,]    3    5   -2\n",
      "[2,]    9    1    8\n",
      "\n",
      "     [,1] [,2] [,3]\n",
      "[1,]    3    5   -2\n",
      "[2,]    9    1    8\n"
     ]
    }
   ],
   "source": [
    "list_data <- list(c('Jan', 'Feb', 'Mar'), matrix(c(3, 9, 5, 1, -2, 8), nrow=2), list('green', 12.3))\n",
    "names(list_data) <- c('Meses', 'Matrix', 'Cores')\n",
    "print(list_data[2])\n",
    "print(list_data$Matrix)"
   ]
  },
  {
   "cell_type": "markdown",
   "metadata": {},
   "source": [
    "## Juntando listas"
   ]
  },
  {
   "cell_type": "code",
   "execution_count": 37,
   "metadata": {},
   "outputs": [
    {
     "name": "stdout",
     "output_type": "stream",
     "text": [
      "[1] \"1\"      \"2\"      \"3\"      \"Brasil\" \"Vasco\"  \"Canada\"\n"
     ]
    }
   ],
   "source": [
    "list1 <- c(1, 2, 3)\n",
    "list2 <- c('Brasil', 'Vasco', 'Canada')\n",
    "\n",
    "merge_list <- c(list1, list2)\n",
    "print(merge_list)"
   ]
  },
  {
   "cell_type": "markdown",
   "metadata": {},
   "source": [
    "## Convertendo list para vector"
   ]
  },
  {
   "cell_type": "code",
   "execution_count": 40,
   "metadata": {},
   "outputs": [
    {
     "name": "stdout",
     "output_type": "stream",
     "text": [
      "[1] 1 2 3\n"
     ]
    }
   ],
   "source": [
    "# Prezar pelas operações\n",
    "list1 <- c(1, 2, 3)\n",
    "vect1 <- unlist(list1)\n",
    "print(vect1)"
   ]
  },
  {
   "cell_type": "markdown",
   "metadata": {},
   "source": [
    "# MATRIX\n",
    "* 2D.\n",
    "* Contém elementos do mesmo tipo atômico.\n",
    "* Assinatura: `matrix(data, nrow, ncol, byrow, dimnames)`.\n",
    "    * byrow = TRUE, os elementos são dispostos pelas linhas. O default é pelas colunas.\n",
    "    * dimnames: é possível dar nomes as linhas e colunas"
   ]
  },
  {
   "cell_type": "markdown",
   "metadata": {},
   "source": [
    "## Definição de matrizes"
   ]
  },
  {
   "cell_type": "code",
   "execution_count": 41,
   "metadata": {},
   "outputs": [
    {
     "name": "stdout",
     "output_type": "stream",
     "text": [
      "     [,1] [,2] [,3]\n",
      "[1,]    3    4    5\n",
      "[2,]    6    7    8\n",
      "[3,]    9   10   11\n",
      "[4,]   12   13   14\n",
      "     [,1] [,2] [,3]\n",
      "[1,]    3    7   11\n",
      "[2,]    4    8   12\n",
      "[3,]    5    9   13\n",
      "[4,]    6   10   14\n",
      "     col1 col2 col3\n",
      "row1    3    4    5\n",
      "row2    6    7    8\n",
      "row3    9   10   11\n",
      "row4   12   13   14\n"
     ]
    }
   ],
   "source": [
    "M <- matrix(c(3:14), nrow = 4, byrow = TRUE)\n",
    "print(M)\n",
    "\n",
    "N <- matrix(c(3:14), nrow = 4, byrow = FALSE)\n",
    "print(N)\n",
    "\n",
    "rownames = c(\"row1\", \"row2\", \"row3\", \"row4\")\n",
    "colnames = c(\"col1\", \"col2\", \"col3\")\n",
    "\n",
    "P <- matrix(c(3:14), nrow = 4, byrow = TRUE, dimnames = list(rownames, colnames))\n",
    "print(P)"
   ]
  },
  {
   "cell_type": "markdown",
   "metadata": {},
   "source": [
    "## Acessando elementos da matriz"
   ]
  },
  {
   "cell_type": "code",
   "execution_count": 44,
   "metadata": {},
   "outputs": [
    {
     "name": "stdout",
     "output_type": "stream",
     "text": [
      "     col1 col2 col3\n",
      "row1    3    4    5\n",
      "row2    6    7    8\n",
      "row3    9   10   11\n",
      "row4   12   13   14\n",
      "[1] 5\n",
      "col1 col2 col3 \n",
      "   6    7    8 \n",
      "row1 row2 row3 row4 \n",
      "   5    8   11   14 \n"
     ]
    }
   ],
   "source": [
    "rownames = c(\"row1\", \"row2\", \"row3\", \"row4\")\n",
    "colnames = c(\"col1\", \"col2\", \"col3\")\n",
    "\n",
    "P <- matrix(c(3:14), nrow = 4, byrow = TRUE, dimnames = list(rownames, colnames))\n",
    "\n",
    "print(P)\n",
    "print(P[1,3])\n",
    "print(P[2,])\n",
    "print(P[,3])"
   ]
  },
  {
   "cell_type": "markdown",
   "metadata": {},
   "source": [
    "## Fazendo operações sobre a matriz"
   ]
  },
  {
   "cell_type": "code",
   "execution_count": 53,
   "metadata": {},
   "outputs": [
    {
     "name": "stdout",
     "output_type": "stream",
     "text": [
      "     [,1] [,2]\n",
      "[1,]    3   -1\n",
      "[2,]    9    4\n",
      "     [,1] [,2]\n",
      "[1,]    5    0\n",
      "[2,]    2    9\n",
      "     [,1] [,2]\n",
      "[1,]    8   -1\n",
      "[2,]   11   13\n",
      "     [,1] [,2]\n",
      "[1,]   -2   -1\n",
      "[2,]    7   -5\n",
      "     [,1] [,2]\n",
      "[1,]   15    0\n",
      "[2,]   18   36\n",
      "     [,1]      [,2]\n",
      "[1,]  0.6      -Inf\n",
      "[2,]  4.5 0.4444444\n",
      "     [,1] [,2]\n",
      "[1,]   13   -9\n",
      "[2,]   53   36\n"
     ]
    }
   ],
   "source": [
    "mat1 <- matrix(c(3, 9, -1, 4), nrow=2)\n",
    "mat2 <- matrix(c(5, 2, 0, 9), nrow=2)\n",
    "\n",
    "print(mat1)\n",
    "print(mat2)\n",
    "\n",
    "soma <- mat1+mat2\n",
    "sub <- mat1-mat2\n",
    "# Multiplicação termo a termo\n",
    "mult <- mat1*mat2\n",
    "# Divisão termo a termo\n",
    "div <- mat1/mat2\n",
    "# Multiplicação de matriz\n",
    "multm <- mat1%*%mat2\n",
    "\n",
    "\n",
    "print(soma)\n",
    "print(sub)\n",
    "print(mult)\n",
    "print(div)\n",
    "print(multm)"
   ]
  },
  {
   "cell_type": "markdown",
   "metadata": {},
   "source": [
    "# Arrays\n",
    "* Guarda dados em n dimensões.\n"
   ]
  },
  {
   "cell_type": "markdown",
   "metadata": {},
   "source": [
    "## Definição de arrays"
   ]
  },
  {
   "cell_type": "code",
   "execution_count": 56,
   "metadata": {},
   "outputs": [
    {
     "name": "stdout",
     "output_type": "stream",
     "text": [
      ", , Matrix1\n",
      "\n",
      "     COL1 COL2 COL3\n",
      "ROW1    5   10   13\n",
      "ROW2    9   11   14\n",
      "ROW3    3   12   15\n",
      "\n",
      ", , Matrix2\n",
      "\n",
      "     COL1 COL2 COL3\n",
      "ROW1    5   10   13\n",
      "ROW2    9   11   14\n",
      "ROW3    3   12   15\n",
      "\n"
     ]
    }
   ],
   "source": [
    "vector1 <- c(5,9,3)\n",
    "vector2 <- c(10,11,12,13,14,15)\n",
    "column.names <- c(\"COL1\",\"COL2\",\"COL3\")\n",
    "row.names <- c(\"ROW1\",\"ROW2\",\"ROW3\")\n",
    "matrix.names <- c(\"Matrix1\",\"Matrix2\")\n",
    "\n",
    "result <- array(c(vector1,vector2),dim = c(3,3,2),dimnames = list(row.names,column.names,\n",
    "   matrix.names))\n",
    "print(result)"
   ]
  },
  {
   "cell_type": "markdown",
   "metadata": {},
   "source": [
    "## Acessando os elementos"
   ]
  },
  {
   "cell_type": "code",
   "execution_count": 57,
   "metadata": {},
   "outputs": [
    {
     "name": "stdout",
     "output_type": "stream",
     "text": [
      ", , Matrix1\n",
      "\n",
      "     COL1 COL2 COL3\n",
      "ROW1    5   10   13\n",
      "ROW2    9   11   14\n",
      "ROW3    3   12   15\n",
      "\n",
      ", , Matrix2\n",
      "\n",
      "     COL1 COL2 COL3\n",
      "ROW1    5   10   13\n",
      "ROW2    9   11   14\n",
      "ROW3    3   12   15\n",
      "\n",
      "COL1 COL2 COL3 \n",
      "   3   12   15 \n"
     ]
    }
   ],
   "source": [
    "vector1 <- c(5,9,3)\n",
    "vector2 <- c(10,11,12,13,14,15)\n",
    "column.names <- c(\"COL1\",\"COL2\",\"COL3\")\n",
    "row.names <- c(\"ROW1\",\"ROW2\",\"ROW3\")\n",
    "matrix.names <- c(\"Matrix1\",\"Matrix2\")\n",
    "\n",
    "result <- array(c(vector1,vector2),dim = c(3,3,2),dimnames = list(row.names,\n",
    "   column.names, matrix.names))\n",
    "\n",
    "print(result)\n",
    "print(result[3,,2])"
   ]
  },
  {
   "cell_type": "markdown",
   "metadata": {},
   "source": [
    "## Funções úteis"
   ]
  },
  {
   "cell_type": "code",
   "execution_count": 59,
   "metadata": {},
   "outputs": [
    {
     "name": "stdout",
     "output_type": "stream",
     "text": [
      ", , 1\n",
      "\n",
      "     [,1] [,2] [,3]\n",
      "[1,]    5   10   13\n",
      "[2,]    9   11   14\n",
      "[3,]    3   12   15\n",
      "\n",
      ", , 2\n",
      "\n",
      "     [,1] [,2] [,3]\n",
      "[1,]    5   10   13\n",
      "[2,]    9   11   14\n",
      "[3,]    3   12   15\n",
      "\n",
      "[1] 56 68 60\n"
     ]
    }
   ],
   "source": [
    "# apply(x, margin, fun)\n",
    "# x: array; margin: nome do conjunto de dados usado; fun: função a ser aplicada.\n",
    "\n",
    "vector1 <- c(5,9,3)\n",
    "vector2 <- c(10,11,12,13,14,15)\n",
    "\n",
    "new.array <- array(c(vector1,vector2),dim = c(3,3,2))\n",
    "print(new.array)\n",
    "\n",
    "# Use apply to calculate the sum of the rows across all the matrices.\n",
    "result <- apply(new.array, c(1), sum) # 1: rows, 2: columns; X: dimname\n",
    "print(result)"
   ]
  },
  {
   "cell_type": "markdown",
   "metadata": {},
   "source": [
    "# FACTORS\n",
    "* Categoriza e armazena em níveis (levels).\n",
    "* Útil para modelagem estatística."
   ]
  },
  {
   "cell_type": "markdown",
   "metadata": {},
   "source": [
    "## Definição de factors"
   ]
  },
  {
   "cell_type": "code",
   "execution_count": 60,
   "metadata": {},
   "outputs": [
    {
     "name": "stdout",
     "output_type": "stream",
     "text": [
      " [1] \"East\"  \"West\"  \"East\"  \"North\" \"North\" \"East\"  \"West\"  \"West\"  \"West\" \n",
      "[10] \"East\"  \"North\"\n",
      "[1] FALSE\n",
      " [1] East  West  East  North North East  West  West  West  East  North\n",
      "Levels: East North West\n",
      "[1] TRUE\n"
     ]
    }
   ],
   "source": [
    "data <- c(\"East\",\"West\",\"East\",\"North\",\"North\",\"East\",\"West\",\"West\",\"West\",\"East\",\"North\")\n",
    "\n",
    "print(data)\n",
    "print(is.factor(data))\n",
    "\n",
    "factor_data <- factor(data)\n",
    "\n",
    "print(factor_data)\n",
    "print(is.factor(factor_data))"
   ]
  },
  {
   "cell_type": "markdown",
   "metadata": {},
   "source": [
    "## Factors e data frame"
   ]
  },
  {
   "cell_type": "code",
   "execution_count": 66,
   "metadata": {},
   "outputs": [
    {
     "name": "stdout",
     "output_type": "stream",
     "text": [
      "  height weight gender\n",
      "1    132     48   male\n",
      "2    151     49   male\n",
      "3    162     66 female\n",
      "4    139     53 female\n",
      "5    166     67   male\n",
      "6    147     52 female\n",
      "7    122     40   male\n",
      "[1] TRUE\n",
      "[1] male   male   female female male   female male  \n",
      "Levels: female male\n"
     ]
    }
   ],
   "source": [
    "height <- c(132, 151, 162, 139, 166, 147, 122)\n",
    "weight <- c(48, 49, 66, 53, 67, 52, 40)\n",
    "gender <- c(\"male\", \"male\", \"female\", \"female\", \"male\", \"female\", \"male\")\n",
    "\n",
    "input_data <- data.frame(height, weight, gender)\n",
    "print(input_data)\n",
    "\n",
    "print(is.factor(input_data$gender))\n",
    "print(input_data$gender)"
   ]
  },
  {
   "cell_type": "markdown",
   "metadata": {},
   "source": [
    "## Alterando a ordem dos levels dos factors"
   ]
  },
  {
   "cell_type": "code",
   "execution_count": 69,
   "metadata": {},
   "outputs": [
    {
     "name": "stdout",
     "output_type": "stream",
     "text": [
      " [1] East  West  East  North North East  West  West  West  East  North\n",
      "Levels: East North West\n",
      " [1] East  West  East  North North East  West  West  West  East  North\n",
      "Levels: East West North\n"
     ]
    }
   ],
   "source": [
    "data <- c(\"East\",\"West\",\"East\",\"North\",\"North\",\"East\",\"West\",\n",
    "   \"West\",\"West\",\"East\",\"North\")\n",
    "factor_data <- factor(data)\n",
    "print(factor_data)\n",
    "\n",
    "# Escolha a apresentação dos levels\n",
    "new_order_data <- factor(factor_data,levels = c(\"East\",\"West\",\"North\"))\n",
    "print(new_order_data)"
   ]
  },
  {
   "cell_type": "markdown",
   "metadata": {},
   "source": [
    "# DATA FRAMES\n",
    "* Uma coluna tem valores de uma variável.\n",
    "* Nomes das colunas não devem ser vazios.\n",
    "* Nomes nas linhas devem ser únicos.\n",
    "* Armazena tipos `numeric`, `factor` ou `character`.\n",
    "* Adiciona colunas: `cbind(df, list)`. Adicionar linhas: `rbind(df, list)`."
   ]
  },
  {
   "cell_type": "markdown",
   "metadata": {},
   "source": [
    "## Definição do data frame"
   ]
  },
  {
   "cell_type": "code",
   "execution_count": 83,
   "metadata": {},
   "outputs": [
    {
     "data": {
      "text/html": [
       "<table>\n",
       "<caption>A data.frame: 6 × 4</caption>\n",
       "<thead>\n",
       "\t<tr><th scope=col>emp_id</th><th scope=col>emp_name</th><th scope=col>salary</th><th scope=col>start_date</th></tr>\n",
       "\t<tr><th scope=col>&lt;dbl&gt;</th><th scope=col>&lt;chr&gt;</th><th scope=col>&lt;dbl&gt;</th><th scope=col>&lt;date&gt;</th></tr>\n",
       "</thead>\n",
       "<tbody>\n",
       "\t<tr><td>1</td><td>Rick    </td><td>623.30</td><td>2012-01-01</td></tr>\n",
       "\t<tr><td>2</td><td>Dan     </td><td>515.20</td><td>2012-12-19</td></tr>\n",
       "\t<tr><td>3</td><td>Michelle</td><td>611.00</td><td>2001-03-23</td></tr>\n",
       "\t<tr><td>4</td><td>Ryan    </td><td>729.00</td><td>1997-04-10</td></tr>\n",
       "\t<tr><td>5</td><td>Gary    </td><td>843.25</td><td>2010-01-27</td></tr>\n",
       "\t<tr><td>6</td><td>Paul    </td><td>160.32</td><td>2019-08-05</td></tr>\n",
       "</tbody>\n",
       "</table>\n"
      ],
      "text/latex": [
       "A data.frame: 6 × 4\n",
       "\\begin{tabular}{r|llll}\n",
       " emp\\_id & emp\\_name & salary & start\\_date\\\\\n",
       " <dbl> & <chr> & <dbl> & <date>\\\\\n",
       "\\hline\n",
       "\t 1 & Rick     & 623.30 & 2012-01-01\\\\\n",
       "\t 2 & Dan      & 515.20 & 2012-12-19\\\\\n",
       "\t 3 & Michelle & 611.00 & 2001-03-23\\\\\n",
       "\t 4 & Ryan     & 729.00 & 1997-04-10\\\\\n",
       "\t 5 & Gary     & 843.25 & 2010-01-27\\\\\n",
       "\t 6 & Paul     & 160.32 & 2019-08-05\\\\\n",
       "\\end{tabular}\n"
      ],
      "text/markdown": [
       "\n",
       "A data.frame: 6 × 4\n",
       "\n",
       "| emp_id &lt;dbl&gt; | emp_name &lt;chr&gt; | salary &lt;dbl&gt; | start_date &lt;date&gt; |\n",
       "|---|---|---|---|\n",
       "| 1 | Rick     | 623.30 | 2012-01-01 |\n",
       "| 2 | Dan      | 515.20 | 2012-12-19 |\n",
       "| 3 | Michelle | 611.00 | 2001-03-23 |\n",
       "| 4 | Ryan     | 729.00 | 1997-04-10 |\n",
       "| 5 | Gary     | 843.25 | 2010-01-27 |\n",
       "| 6 | Paul     | 160.32 | 2019-08-05 |\n",
       "\n"
      ],
      "text/plain": [
       "  emp_id emp_name salary start_date\n",
       "1 1      Rick     623.30 2012-01-01\n",
       "2 2      Dan      515.20 2012-12-19\n",
       "3 3      Michelle 611.00 2001-03-23\n",
       "4 4      Ryan     729.00 1997-04-10\n",
       "5 5      Gary     843.25 2010-01-27\n",
       "6 6      Paul     160.32 2019-08-05"
      ]
     },
     "metadata": {},
     "output_type": "display_data"
    },
    {
     "name": "stdout",
     "output_type": "stream",
     "text": [
      "  emp_id emp_name salary start_date\n",
      "1      1     Rick 623.30 2012-01-01\n",
      "2      2      Dan 515.20 2012-12-19\n",
      "3      3 Michelle 611.00 2001-03-23\n",
      "4      4     Ryan 729.00 1997-04-10\n",
      "5      5     Gary 843.25 2010-01-27\n"
     ]
    }
   ],
   "source": [
    "emp.data <- data.frame(\n",
    "    emp_id = c(1:5),\n",
    "    emp_name = c(\"Rick\", \"Dan\", \"Michelle\", \"Ryan\", \"Gary\"),\n",
    "    salary = c(623.3, 515.2, 611.0, 729.0, 843.25),\n",
    "    \n",
    "    start_date = as.Date(c(\"2012-01-01\", \"2012-12-19\", \"2001-03-23\", \"1997-04-10\", \"2010-01-27\")),\n",
    "    stringsAsFactors = FALSE # sem os levels\n",
    ")\n",
    "\n",
    "rbind(emp.data,list(6,\"Paul\", 160.32, \"2019-08-05\"))\n",
    "\n",
    "print(emp.data)"
   ]
  },
  {
   "cell_type": "markdown",
   "metadata": {},
   "source": [
    "## Estrutura e Resumo do Data Frame"
   ]
  },
  {
   "cell_type": "code",
   "execution_count": 84,
   "metadata": {},
   "outputs": [
    {
     "name": "stdout",
     "output_type": "stream",
     "text": [
      "'data.frame':\t5 obs. of  4 variables:\n",
      " $ emp_id    : int  1 2 3 4 5\n",
      " $ emp_name  : chr  \"Rick\" \"Dan\" \"Michelle\" \"Ryan\" ...\n",
      " $ salary    : num  623 515 611 729 843\n",
      " $ start_date: Date, format: \"2012-01-01\" \"2012-12-19\" ...\n",
      "NULL\n",
      "     emp_id    emp_name             salary        start_date        \n",
      " Min.   :1   Length:5           Min.   :515.2   Min.   :1997-04-10  \n",
      " 1st Qu.:2   Class :character   1st Qu.:611.0   1st Qu.:2001-03-23  \n",
      " Median :3   Mode  :character   Median :623.3   Median :2010-01-27  \n",
      " Mean   :3                      Mean   :664.4   Mean   :2006-09-15  \n",
      " 3rd Qu.:4                      3rd Qu.:729.0   3rd Qu.:2012-01-01  \n",
      " Max.   :5                      Max.   :843.2   Max.   :2012-12-19  \n",
      "[1] 623.30 515.20 611.00 729.00 843.25\n"
     ]
    }
   ],
   "source": [
    "emp.data <- data.frame(\n",
    "    emp_id = c(1:5),\n",
    "    emp_name = c(\"Rick\", \"Dan\", \"Michelle\", \"Ryan\", \"Gary\"),\n",
    "    salary = c(623.3, 515.2, 611.0, 729.0, 843.25),\n",
    "    \n",
    "    start_date = as.Date(c(\"2012-01-01\", \"2012-12-19\", \"2001-03-23\", \"1997-04-10\", \"2010-01-27\")),\n",
    "    stringsAsFactors = FALSE # sem os levels\n",
    ")\n",
    "\n",
    "print(str(emp.data))\n",
    "print(summary(emp.data))\n",
    "print(emp.data$salary)"
   ]
  },
  {
   "cell_type": "markdown",
   "metadata": {},
   "source": [
    "## Acessando elementos no Data Frame"
   ]
  },
  {
   "cell_type": "code",
   "execution_count": 86,
   "metadata": {},
   "outputs": [
    {
     "name": "stdout",
     "output_type": "stream",
     "text": [
      "  emp_id emp_name salary start_date\n",
      "1      1     Rick 623.30 2012-01-01\n",
      "2      2      Dan 515.20 2013-09-23\n",
      "3      3 Michelle 611.00 2014-11-15\n",
      "4      4     Ryan 729.00 2014-05-11\n",
      "5      5     Gary 843.25 2015-03-27\n",
      "  emp_name start_date\n",
      "3 Michelle 2014-11-15\n",
      "5     Gary 2015-03-27\n"
     ]
    }
   ],
   "source": [
    "emp.data <- data.frame(\n",
    "   emp_id = c (1:5), \n",
    "   emp_name = c(\"Rick\",\"Dan\",\"Michelle\",\"Ryan\",\"Gary\"),\n",
    "   salary = c(623.3,515.2,611.0,729.0,843.25), \n",
    "   \n",
    "    start_date = as.Date(c(\"2012-01-01\", \"2013-09-23\", \"2014-11-15\", \"2014-05-11\",\n",
    "      \"2015-03-27\")),\n",
    "   stringsAsFactors = FALSE\n",
    ")\n",
    "\n",
    "print(emp.data)\n",
    "# 3, 5 linhas; 5, 4 colunas\n",
    "result <- emp.data[c(3,5),c(2,4)]\n",
    "print(result)"
   ]
  },
  {
   "cell_type": "markdown",
   "metadata": {},
   "source": [
    "## Expandindo e Juntando Data Frame"
   ]
  },
  {
   "cell_type": "code",
   "execution_count": 94,
   "metadata": {},
   "outputs": [
    {
     "name": "stdout",
     "output_type": "stream",
     "text": [
      "  emp_id emp_name salary start_date       dept\n",
      "1      1     Rick 623.30 2012-01-01         IT\n",
      "2      2      Dan 515.20 2013-09-23 Operations\n",
      "3      3 Michelle 611.00 2014-11-15         IT\n",
      "4      4     Ryan 729.00 2014-05-11         HR\n",
      "5      5     Gary 843.25 2015-03-27    Finance\n",
      "6      7    Rasmi 578.00 2013-05-21         IT\n",
      "7      8   Pranab 722.50 2013-07-30 Operations\n",
      "8      9    Tusar 632.80 2014-06-17   Fianance\n"
     ]
    }
   ],
   "source": [
    "emp.data <- data.frame(\n",
    "   emp_id = c (1:5), \n",
    "   emp_name = c(\"Rick\",\"Dan\",\"Michelle\",\"Ryan\",\"Gary\"),\n",
    "   salary = c(623.3,515.2,611.0,729.0,843.25), \n",
    "   \n",
    "   start_date = as.Date(c(\"2012-01-01\", \"2013-09-23\", \"2014-11-15\", \"2014-05-11\",\n",
    "      \"2015-03-27\")),\n",
    "   stringsAsFactors = FALSE\n",
    ")\n",
    "# Adiciona a coluna \"dept\" (departamento)\n",
    "emp.data$dept <- c(\"IT\",\"Operations\",\"IT\",\"HR\",\"Finance\")\n",
    "\n",
    "emp.newdata <- data.frame(\n",
    "   emp_id = c (7:9), \n",
    "   emp_name = c(\"Rasmi\",\"Pranab\",\"Tusar\"),\n",
    "   salary = c(578.0,722.5,632.8), \n",
    "   start_date = as.Date(c(\"2013-05-21\",\"2013-07-30\",\"2014-06-17\")),\n",
    "   dept = c(\"IT\",\"Operations\",\"Fianance\"),\n",
    "   stringsAsFactors = FALSE\n",
    ")\n",
    "\n",
    "final.emp <- rbind(emp.data, emp.newdata)\n",
    "print(final.emp)"
   ]
  },
  {
   "cell_type": "code",
   "execution_count": null,
   "metadata": {},
   "outputs": [],
   "source": []
  }
 ],
 "metadata": {
  "kernelspec": {
   "display_name": "R",
   "language": "R",
   "name": "ir"
  },
  "language_info": {
   "codemirror_mode": "r",
   "file_extension": ".r",
   "mimetype": "text/x-r-source",
   "name": "R",
   "pygments_lexer": "r",
   "version": "3.5.2"
  }
 },
 "nbformat": 4,
 "nbformat_minor": 2
}
