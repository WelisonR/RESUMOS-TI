{
 "cells": [
  {
   "cell_type": "markdown",
   "metadata": {},
   "source": [
    "# LEITURA DE DADOS EM R\n",
    "* `getwd()`: get working directory.\n",
    "* `setwd()`: set working directory.\n",
    "* Tipos de arquivos comuns utilizados em R:\n",
    "    * `csv`, `xlsx`, `xml`, `json`.\n",
    "    * Arquivos binários: `writeBin()` e `readBin()`."
   ]
  },
  {
   "cell_type": "markdown",
   "metadata": {},
   "source": [
    "# CSV"
   ]
  },
  {
   "cell_type": "code",
   "execution_count": 17,
   "metadata": {},
   "outputs": [
    {
     "name": "stdout",
     "output_type": "stream",
     "text": [
      "  id     name salary start_date       dept\n",
      "1  1     Rick 623.30 2012-01-01         IT\n",
      "2  2      Dan 515.20 2013-09-23 Operations\n",
      "3  3 Michelle 611.00 2014-11-15         IT\n",
      "4  4     Ryan 729.00 2014-05-11         HR\n",
      "5  5     Gary 843.25 2015-03-27    Finance\n",
      "6  6     Nina 578.00 2013-05-21         IT\n",
      "7  7    Simon 632.80 2013-07-30 Operations\n",
      "8  8     Guru 722.50 2014-06-17    Finance\n",
      "[1] TRUE\n",
      "[1] 5\n",
      "[1] 8\n",
      "[1] 843.25\n",
      "\n",
      "  id name salary start_date    dept\n",
      "5  5 Gary 843.25 2015-03-27 Finance\n",
      "\n",
      "  id  name salary start_date       dept\n",
      "7  7 Simon  632.8 2013-07-30 Operations\n",
      "\n",
      "  id     name salary start_date       dept\n",
      "2  2      Dan 515.20 2013-09-23 Operations\n",
      "3  3 Michelle 611.00 2014-11-15         IT\n",
      "4  4     Ryan 729.00 2014-05-11         HR\n",
      "5  5     Gary 843.25 2015-03-27    Finance\n",
      "6  6     Nina 578.00 2013-05-21         IT\n",
      "7  7    Simon 632.80 2013-07-30 Operations\n",
      "8  8     Guru 722.50 2014-06-17    Finance\n"
     ]
    }
   ],
   "source": [
    "data <- read.csv(\"../DADOS/input.csv\")\n",
    "print(data)\n",
    "\n",
    "print(is.data.frame(data))\n",
    "print(ncol(data))\n",
    "print(nrow(data))\n",
    "\n",
    "# Máximo salário\n",
    "max_sal <- max(data$salary)\n",
    "print(max_sal)\n",
    "cat('\\n')\n",
    "\n",
    "# Detalhes da pessoa com maior salário\n",
    "retval <- subset(data, salary == max(salary))\n",
    "print(retval)\n",
    "cat('\\n')\n",
    "\n",
    "# Pessoa que trabalha no departametno de \"Operations\" e ganha mais de $600\n",
    "operators <- subset(data, dept == 'Operations' & salary > 600.00)\n",
    "print(operators)\n",
    "cat('\\n')\n",
    "\n",
    "# Pessoas que entraram depois de 2013\n",
    "biggert2013 <- subset(data, as.Date(start_date) >= as.Date('2013-01-01'))\n",
    "print(biggert2013)"
   ]
  },
  {
   "cell_type": "markdown",
   "metadata": {},
   "source": [
    "## Escrevendo no csv"
   ]
  },
  {
   "cell_type": "code",
   "execution_count": 22,
   "metadata": {},
   "outputs": [
    {
     "name": "stdout",
     "output_type": "stream",
     "text": [
      "  id     name salary start_date       dept\n",
      "1  1     Rick 623.30 2012-01-01         IT\n",
      "2  2      Dan 515.20 2013-09-23 Operations\n",
      "3  3 Michelle 611.00 2014-11-15         IT\n",
      "4  4     Ryan 729.00 2014-05-11         HR\n",
      "5  5     Gary 843.25 2015-03-27    Finance\n",
      "6  6     Nina 578.00 2013-05-21         IT\n",
      "7  7    Simon 632.80 2013-07-30 Operations\n",
      "8  8     Guru 722.50 2014-06-17    Finance\n",
      "\n",
      "  id     name salary start_date       dept\n",
      "1  2      Dan 515.20 2013-09-23 Operations\n",
      "2  3 Michelle 611.00 2014-11-15         IT\n",
      "3  4     Ryan 729.00 2014-05-11         HR\n",
      "4  5     Gary 843.25 2015-03-27    Finance\n",
      "5  6     Nina 578.00 2013-05-21         IT\n",
      "6  7    Simon 632.80 2013-07-30 Operations\n",
      "7  8     Guru 722.50 2014-06-17    Finance\n"
     ]
    }
   ],
   "source": [
    "data <- read.csv(\"../DADOS/input.csv\")\n",
    "print(data)\n",
    "\n",
    "# Pessoas que entraram depois de 2013\n",
    "biggert2013 <- subset(data, as.Date(start_date) >= as.Date('2013-01-01'))\n",
    "\n",
    "write.csv(biggert2013, \"../DADOS/output.csv\", row.names = FALSE) # Remove a coluna extra\n",
    "cat('\\n')\n",
    "\n",
    "teste <- read.csv(\"../DADOS/output.csv\")\n",
    "print(teste)"
   ]
  },
  {
   "cell_type": "code",
   "execution_count": null,
   "metadata": {},
   "outputs": [],
   "source": []
  }
 ],
 "metadata": {
  "kernelspec": {
   "display_name": "R",
   "language": "R",
   "name": "ir"
  },
  "language_info": {
   "codemirror_mode": "r",
   "file_extension": ".r",
   "mimetype": "text/x-r-source",
   "name": "R",
   "pygments_lexer": "r",
   "version": "3.5.2"
  }
 },
 "nbformat": 4,
 "nbformat_minor": 2
}
