{
 "cells": [
  {
   "cell_type": "markdown",
   "metadata": {},
   "source": [
    "# CONDICIONAIS EM R\n",
    "\n",
    "* Condicionais suportadas em R:\n",
    "    * if, if...else, switch"
   ]
  },
  {
   "cell_type": "code",
   "execution_count": 2,
   "metadata": {},
   "outputs": [
    {
     "name": "stdout",
     "output_type": "stream",
     "text": [
      "[1] \"x is an integer number\"\n"
     ]
    }
   ],
   "source": [
    "30L -> x\n",
    "if (is.integer(x)) {\n",
    "    print(\"x is an integer number\")\n",
    "}"
   ]
  },
  {
   "cell_type": "code",
   "execution_count": 8,
   "metadata": {},
   "outputs": [
    {
     "name": "stdout",
     "output_type": "stream",
     "text": [
      "[1] \"truth is found the second time!\"\n"
     ]
    }
   ],
   "source": [
    "x <- c(\"what\", \"is\", \"truth\")\n",
    "\n",
    "# A estrutura tem que ser preservada,\n",
    "# o (if) else não pode estar na linha abaixo\n",
    "if (\"Truth\" %in% x) {\n",
    "    print(\"truth is found the first time!\")\n",
    "} else if (\"truth\" %in% x) {\n",
    "    print(\"truth is found the second time!\")\n",
    "} else {\n",
    "    print(\"No truth found!\")\n",
    "}"
   ]
  },
  {
   "cell_type": "code",
   "execution_count": 10,
   "metadata": {},
   "outputs": [
    {
     "name": "stdout",
     "output_type": "stream",
     "text": [
      "[1] \"red\"\n"
     ]
    }
   ],
   "source": [
    "x <- switch(\"color\", \"color\" = \"red\", \"shape\" = \"square\", \"length\" = 5)\n",
    "print(x)"
   ]
  }
 ],
 "metadata": {
  "kernelspec": {
   "display_name": "R",
   "language": "R",
   "name": "ir"
  },
  "language_info": {
   "codemirror_mode": "r",
   "file_extension": ".r",
   "mimetype": "text/x-r-source",
   "name": "R",
   "pygments_lexer": "r",
   "version": "3.5.2"
  }
 },
 "nbformat": 4,
 "nbformat_minor": 2
}
